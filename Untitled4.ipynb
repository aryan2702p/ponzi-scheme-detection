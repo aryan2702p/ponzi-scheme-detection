{
 "cells": [
  {
   "cell_type": "code",
   "execution_count": 1,
   "id": "b6320f1c",
   "metadata": {},
   "outputs": [],
   "source": [
    "import pandas as pd\n",
    "data = pd.read_csv('processed_data.csv')"
   ]
  },
  {
   "cell_type": "code",
   "execution_count": 2,
   "id": "b54b4041",
   "metadata": {},
   "outputs": [
    {
     "name": "stdout",
     "output_type": "stream",
     "text": [
      "                                       padded_sequences  label\n",
      "0     [1, 3, 4, 5, 8, 11, 12, 13, 14, 23, 24, 32, 33...      1\n",
      "1     [1, 3, 4, 5, 8, 11, 12, 13, 14, 16, 23, 24, 32...      1\n",
      "2     [1, 3, 4, 5, 8, 10, 11, 12, 13, 14, 23, 24, 25...      1\n",
      "3     [1, 4, 8, 11, 12, 13, 14, 23, 24, 25, 32, 33, ...      1\n",
      "4     [1, 3, 4, 5, 8, 10, 11, 12, 13, 14, 23, 24, 25...      1\n",
      "...                                                 ...    ...\n",
      "3781  [1, 3, 4, 5, 6, 8, 11, 12, 13, 14, 18, 23, 24,...      0\n",
      "3782  [1, 4, 11, 13, 23, 24, 32, 33, 34, 40, 41, 51,...      0\n",
      "3783  [1, 3, 4, 8, 10, 11, 12, 13, 14, 23, 24, 25, 2...      0\n",
      "3784  [1, 3, 4, 5, 8, 11, 12, 13, 14, 23, 24, 25, 26...      0\n",
      "3785  [4, 11, 13, 23, 24, 32, 33, 40, 41, 49, 51, 52...      0\n",
      "\n",
      "[3786 rows x 2 columns]\n"
     ]
    }
   ],
   "source": [
    "print(data)"
   ]
  },
  {
   "cell_type": "code",
   "execution_count": 3,
   "id": "24916927",
   "metadata": {},
   "outputs": [],
   "source": [
    "import ast\n",
    "import pandas as pd\n",
    "\n",
    "# Assuming 'df' is your dataframe containing the tokenized and padded integer sequences as strings\n",
    "\n",
    "# Convert string representation of lists to actual lists\n",
    "data['padded_sequences'] = data['padded_sequences'].apply(ast.literal_eval)\n",
    "\n",
    "# Now each entry in 'tokenized_sequences' column is a list of integers\n",
    "\n",
    "# If necessary, convert the dataframe column to a list of numpy arrays\n",
    "X = data['padded_sequences'].tolist()\n",
    "\n",
    "# Now 'X' contains a list of numpy arrays representing the tokenized and padded integer sequences\n"
   ]
  },
  {
   "cell_type": "code",
   "execution_count": 4,
   "id": "c4da934b",
   "metadata": {},
   "outputs": [
    {
     "name": "stdout",
     "output_type": "stream",
     "text": [
      "                                       padded_sequences  label\n",
      "0     [1, 3, 4, 5, 8, 11, 12, 13, 14, 23, 24, 32, 33...      1\n",
      "1     [1, 3, 4, 5, 8, 11, 12, 13, 14, 16, 23, 24, 32...      1\n",
      "2     [1, 3, 4, 5, 8, 10, 11, 12, 13, 14, 23, 24, 25...      1\n",
      "3     [1, 4, 8, 11, 12, 13, 14, 23, 24, 25, 32, 33, ...      1\n",
      "4     [1, 3, 4, 5, 8, 10, 11, 12, 13, 14, 23, 24, 25...      1\n",
      "...                                                 ...    ...\n",
      "3781  [1, 3, 4, 5, 6, 8, 11, 12, 13, 14, 18, 23, 24,...      0\n",
      "3782  [1, 4, 11, 13, 23, 24, 32, 33, 34, 40, 41, 51,...      0\n",
      "3783  [1, 3, 4, 8, 10, 11, 12, 13, 14, 23, 24, 25, 2...      0\n",
      "3784  [1, 3, 4, 5, 8, 11, 12, 13, 14, 23, 24, 25, 26...      0\n",
      "3785  [4, 11, 13, 23, 24, 32, 33, 40, 41, 49, 51, 52...      0\n",
      "\n",
      "[3786 rows x 2 columns]\n"
     ]
    }
   ],
   "source": [
    "print(data)"
   ]
  },
  {
   "cell_type": "code",
   "execution_count": 5,
   "id": "eb1f1d6d",
   "metadata": {},
   "outputs": [],
   "source": [
    "from imblearn.over_sampling import SMOTE\n",
    "import numpy as np\n",
    "\n",
    "# Convert list of arrays to numpy array\n",
    "X_array = np.array(X)\n",
    "y_array = data['label'].values  # Assuming 'label' is the column containing the class labels\n",
    "\n",
    "# Instantiate SMOTE\n",
    "smote = SMOTE(random_state=42)\n",
    "\n",
    "# Generate synthetic samples\n",
    "X_resampled, y_resampled = smote.fit_resample(X_array, y_array)\n",
    "\n",
    "# Now X_resampled and y_resampled can be used as features and labels in your model\n"
   ]
  },
  {
   "cell_type": "code",
   "execution_count": 6,
   "id": "f6efb85b",
   "metadata": {},
   "outputs": [
    {
     "name": "stdout",
     "output_type": "stream",
     "text": [
      "[[1 3 4 ... 0 0 0]\n",
      " [1 3 4 ... 0 0 0]\n",
      " [1 3 4 ... 0 0 0]\n",
      " ...\n",
      " [1 3 4 ... 0 0 0]\n",
      " [1 3 4 ... 0 0 0]\n",
      " [1 4 9 ... 0 0 0]]\n",
      "[1 1 1 ... 1 1 1]\n"
     ]
    }
   ],
   "source": [
    "print(X_resampled)\n",
    "print(y_resampled)"
   ]
  },
  {
   "cell_type": "code",
   "execution_count": 7,
   "id": "ef74babc",
   "metadata": {},
   "outputs": [],
   "source": [
    "from sklearn.model_selection import train_test_split\n",
    "import numpy as np\n",
    "\n",
    "# Split the data into training and testing sets with stratified sampling for the initial split\n",
    "X_train, X_test, y_train, y_test = train_test_split(X_resampled, y_resampled, test_size=0.2, random_state=42)\n",
    "\n",
    "# Further split the training set into training and validation sets with stratified sampling\n",
    "X_train, X_val, y_train, y_val = train_test_split(X_train, y_train, test_size=0.1, random_state=42)\n",
    "\n",
    "X_train = np.array(X_train)\n",
    "X_val = np.array(X_val)\n",
    "X_test = np.array(X_test)"
   ]
  },
  {
   "cell_type": "code",
   "execution_count": 8,
   "id": "55a77462",
   "metadata": {},
   "outputs": [
    {
     "name": "stdout",
     "output_type": "stream",
     "text": [
      "X_train shape: (5163, 100)\n",
      "y_train shape: (5163,)\n",
      "X_val shape: (574, 100)\n",
      "y_val shape: (574,)\n"
     ]
    }
   ],
   "source": [
    "print(\"X_train shape:\", X_train.shape)\n",
    "print(\"y_train shape:\", y_train.shape)\n",
    "print(\"X_val shape:\", X_val.shape)\n",
    "print(\"y_val shape:\", y_val.shape)"
   ]
  },
  {
   "cell_type": "code",
   "execution_count": 26,
   "id": "9fc69fb6",
   "metadata": {},
   "outputs": [
    {
     "name": "stdout",
     "output_type": "stream",
     "text": [
      "Model: \"sequential_3\"\n",
      "_________________________________________________________________\n",
      " Layer (type)                Output Shape              Param #   \n",
      "=================================================================\n",
      " embedding_4 (Embedding)     (None, 100, 32)           4576      \n",
      "                                                                 \n",
      " conv1d_10 (Conv1D)          (None, 96, 32)            5152      \n",
      "                                                                 \n",
      " max_pooling1d_7 (MaxPooling  (None, 48, 32)           0         \n",
      " 1D)                                                             \n",
      "                                                                 \n",
      " dropout_6 (Dropout)         (None, 48, 32)            0         \n",
      "                                                                 \n",
      " conv1d_11 (Conv1D)          (None, 44, 64)            10304     \n",
      "                                                                 \n",
      " max_pooling1d_8 (MaxPooling  (None, 22, 64)           0         \n",
      " 1D)                                                             \n",
      "                                                                 \n",
      " dropout_7 (Dropout)         (None, 22, 64)            0         \n",
      "                                                                 \n",
      " conv1d_12 (Conv1D)          (None, 18, 128)           41088     \n",
      "                                                                 \n",
      " global_max_pooling1d_3 (Glo  (None, 128)              0         \n",
      " balMaxPooling1D)                                                \n",
      "                                                                 \n",
      " dense_3 (Dense)             (None, 1)                 129       \n",
      "                                                                 \n",
      "=================================================================\n",
      "Total params: 61,249\n",
      "Trainable params: 61,249\n",
      "Non-trainable params: 0\n",
      "_________________________________________________________________\n"
     ]
    }
   ],
   "source": [
    "from tensorflow.keras.models import Sequential\n",
    "from tensorflow.keras.layers import Embedding, Conv1D, GlobalMaxPooling1D, Dense,MaxPooling1D,Dropout,LSTM\n",
    "def create_model():\n",
    "    model = Sequential([\n",
    "        # Embedding layer\n",
    "        Embedding(input_dim=143, output_dim=32, input_length=100),\n",
    "        \n",
    "        # Conv1D layers\n",
    "        Conv1D(filters=32, kernel_size=5, activation='relu'),\n",
    "        MaxPooling1D(pool_size=2),\n",
    "        Dropout(0.5),  # Dropout layer\n",
    "        \n",
    "        Conv1D(filters=64, kernel_size=5, activation='relu'),\n",
    "        MaxPooling1D(pool_size=2),\n",
    "        Dropout(0.5),  # Dropout layer\n",
    "        \n",
    "        Conv1D(filters=128, kernel_size=5, activation='relu'),\n",
    "        \n",
    "        # GlobalMaxPooling1D layer\n",
    "        GlobalMaxPooling1D(),\n",
    "        \n",
    "        # Output layer\n",
    "        Dense(units=1, activation='sigmoid')\n",
    "    ])\n",
    "    model.compile(optimizer='adam', loss='binary_crossentropy', metrics=['accuracy'])\n",
    "\n",
    "    return model\n",
    "\n",
    "# Define vocabulary size, embedding dimension, and max sequence length\n",
    "\n",
    "# Create the model\n",
    "conv1d_model = create_model()\n",
    "\n",
    "# Compile the model\n",
    "\n",
    "# Print the model summary\n",
    "conv1d_model.summary()"
   ]
  },
  {
   "cell_type": "code",
   "execution_count": 10,
   "id": "b30be4af",
   "metadata": {},
   "outputs": [
    {
     "name": "stdout",
     "output_type": "stream",
     "text": [
      "Epoch 1/20\n",
      "81/81 [==============================] - 3s 20ms/step - loss: 0.5732 - accuracy: 0.6961 - val_loss: 0.2108 - val_accuracy: 0.9303\n",
      "Epoch 2/20\n",
      "81/81 [==============================] - 2s 19ms/step - loss: 0.1877 - accuracy: 0.9340 - val_loss: 0.1217 - val_accuracy: 0.9669\n",
      "Epoch 3/20\n",
      "81/81 [==============================] - 1s 16ms/step - loss: 0.1254 - accuracy: 0.9570 - val_loss: 0.0908 - val_accuracy: 0.9739\n",
      "Epoch 4/20\n",
      "81/81 [==============================] - 1s 16ms/step - loss: 0.1179 - accuracy: 0.9615 - val_loss: 0.0822 - val_accuracy: 0.9756\n",
      "Epoch 5/20\n",
      "81/81 [==============================] - 1s 17ms/step - loss: 0.1109 - accuracy: 0.9632 - val_loss: 0.0869 - val_accuracy: 0.9774\n",
      "Epoch 6/20\n",
      "81/81 [==============================] - 1s 18ms/step - loss: 0.0970 - accuracy: 0.9686 - val_loss: 0.0734 - val_accuracy: 0.9756\n",
      "Epoch 7/20\n",
      "81/81 [==============================] - 1s 18ms/step - loss: 0.0926 - accuracy: 0.9702 - val_loss: 0.0729 - val_accuracy: 0.9826\n",
      "Epoch 8/20\n",
      "81/81 [==============================] - 1s 17ms/step - loss: 0.0892 - accuracy: 0.9721 - val_loss: 0.0840 - val_accuracy: 0.9756\n",
      "Epoch 9/20\n",
      "81/81 [==============================] - 1s 18ms/step - loss: 0.0837 - accuracy: 0.9744 - val_loss: 0.0711 - val_accuracy: 0.9721\n",
      "Epoch 10/20\n",
      "81/81 [==============================] - 1s 18ms/step - loss: 0.0806 - accuracy: 0.9737 - val_loss: 0.0763 - val_accuracy: 0.9843\n",
      "Epoch 11/20\n",
      "81/81 [==============================] - 1s 18ms/step - loss: 0.0746 - accuracy: 0.9777 - val_loss: 0.0964 - val_accuracy: 0.9756\n",
      "Epoch 12/20\n",
      "81/81 [==============================] - 1s 17ms/step - loss: 0.0776 - accuracy: 0.9740 - val_loss: 0.0853 - val_accuracy: 0.9791\n",
      "Epoch 13/20\n",
      "81/81 [==============================] - 1s 18ms/step - loss: 0.0742 - accuracy: 0.9793 - val_loss: 0.0751 - val_accuracy: 0.9721\n",
      "Epoch 14/20\n",
      "81/81 [==============================] - 2s 19ms/step - loss: 0.0702 - accuracy: 0.9799 - val_loss: 0.1072 - val_accuracy: 0.9739\n",
      "Epoch 15/20\n",
      "81/81 [==============================] - 1s 18ms/step - loss: 0.0705 - accuracy: 0.9802 - val_loss: 0.0887 - val_accuracy: 0.9808\n",
      "Epoch 16/20\n",
      "81/81 [==============================] - 2s 19ms/step - loss: 0.0674 - accuracy: 0.9799 - val_loss: 0.0737 - val_accuracy: 0.9808\n",
      "Epoch 17/20\n",
      "81/81 [==============================] - 2s 19ms/step - loss: 0.0690 - accuracy: 0.9802 - val_loss: 0.0712 - val_accuracy: 0.9808\n",
      "Epoch 18/20\n",
      "81/81 [==============================] - 1s 18ms/step - loss: 0.0634 - accuracy: 0.9777 - val_loss: 0.0692 - val_accuracy: 0.9826\n",
      "Epoch 19/20\n",
      "81/81 [==============================] - 2s 20ms/step - loss: 0.0622 - accuracy: 0.9812 - val_loss: 0.0827 - val_accuracy: 0.9808\n",
      "Epoch 20/20\n",
      "81/81 [==============================] - 2s 19ms/step - loss: 0.0589 - accuracy: 0.9824 - val_loss: 0.0903 - val_accuracy: 0.9808\n"
     ]
    },
    {
     "data": {
      "text/plain": [
       "<keras.callbacks.History at 0x1769d152440>"
      ]
     },
     "execution_count": 10,
     "metadata": {},
     "output_type": "execute_result"
    }
   ],
   "source": [
    "conv1d_model.fit(X_train, y_train, epochs=20, batch_size=64, validation_data=(X_val, y_val))"
   ]
  },
  {
   "cell_type": "code",
   "execution_count": 11,
   "id": "2197124d",
   "metadata": {},
   "outputs": [],
   "source": [
    "import numpy as np\n",
    "import matplotlib.pyplot as plt\n",
    "import seaborn as sns\n",
    "from sklearn.metrics import confusion_matrix, accuracy_score, precision_score, recall_score, f1_score\n",
    "\n",
    "def plot_confusion_matrix(model, model_name, X_test, y_test):\n",
    "    y_pred = model.predict(X_test)\n",
    "    y_pred_classes = (y_pred > 0.5).astype(\"int32\")\n",
    "\n",
    "    conf_matrix = confusion_matrix(y_test, y_pred_classes)\n",
    "\n",
    "    accuracy = accuracy_score(y_test, y_pred_classes)\n",
    "    precision = precision_score(y_test, y_pred_classes)\n",
    "    recall = recall_score(y_test, y_pred_classes)\n",
    "    f1 = f1_score(y_test, y_pred_classes)\n",
    "\n",
    "    plt.figure(figsize=(8, 6))\n",
    "    sns.heatmap(conf_matrix, annot=True, fmt=\"d\", cmap=\"Blues\", \n",
    "                xticklabels=[\"Not Ponzi\", \"Ponzi\"], yticklabels=[\"Not Ponzi\", \"Ponzi\"])\n",
    "    plt.title(f\"Confusion Matrix - {model_name}\\nAccuracy: {accuracy:.2f}, Precision: {precision:.2f}, Recall: {recall:.2f}, F1-score: {f1:.2f}\")\n",
    "    plt.xlabel(\"Predicted Label\")\n",
    "    plt.ylabel(\"True Label\")\n",
    "    plt.show()\n"
   ]
  },
  {
   "cell_type": "code",
   "execution_count": 12,
   "id": "29739d3b",
   "metadata": {},
   "outputs": [
    {
     "name": "stdout",
     "output_type": "stream",
     "text": [
      "45/45 [==============================] - 0s 2ms/step\n"
     ]
    },
    {
     "data": {
      "image/png": "[encoded data removed]",
      "text/plain": [
       "<Figure size 800x600 with 2 Axes>"
      ]
     },
     "metadata": {},
     "output_type": "display_data"
    }
   ],
   "source": [
    "plot_confusion_matrix(conv1d_model, 'Conv1D', X_test, y_test)"
   ]
  },
  {
   "cell_type": "code",
   "execution_count": 16,
   "id": "0fc4ed12",
   "metadata": {},
   "outputs": [],
   "source": [
    "conv1d_model.save(\"conv1d_model.h5\")"
   ]
  },
  {
   "cell_type": "code",
   "execution_count": 27,
   "id": "9d412218",
   "metadata": {},
   "outputs": [
    {
     "name": "stdout",
     "output_type": "stream",
     "text": [
      "Model: \"sequential_4\"\n",
      "_________________________________________________________________\n",
      " Layer (type)                Output Shape              Param #   \n",
      "=================================================================\n",
      " embedding_5 (Embedding)     (None, 100, 62)           8866      \n",
      "                                                                 \n",
      " conv1d_13 (Conv1D)          (None, 96, 32)            9952      \n",
      "                                                                 \n",
      " max_pooling1d_9 (MaxPooling  (None, 48, 32)           0         \n",
      " 1D)                                                             \n",
      "                                                                 \n",
      " dropout_8 (Dropout)         (None, 48, 32)            0         \n",
      "                                                                 \n",
      " conv1d_14 (Conv1D)          (None, 44, 64)            10304     \n",
      "                                                                 \n",
      " max_pooling1d_10 (MaxPoolin  (None, 22, 64)           0         \n",
      " g1D)                                                            \n",
      "                                                                 \n",
      " dropout_9 (Dropout)         (None, 22, 64)            0         \n",
      "                                                                 \n",
      " lstm (LSTM)                 (None, 32)                12416     \n",
      "                                                                 \n",
      " dense_4 (Dense)             (None, 1)                 33        \n",
      "                                                                 \n",
      "=================================================================\n",
      "Total params: 41,571\n",
      "Trainable params: 41,571\n",
      "Non-trainable params: 0\n",
      "_________________________________________________________________\n"
     ]
    }
   ],
   "source": [
    "def create_cnn_lstm_model():\n",
    "    model = Sequential([\n",
    "        # Embedding layer\n",
    "        Embedding(input_dim=143, output_dim=62, input_length=100),\n",
    "        \n",
    "        # Conv1D layers\n",
    "        Conv1D(filters=32, kernel_size=5, activation='relu'),\n",
    "        MaxPooling1D(pool_size=2),\n",
    "        Dropout(0.5),  # Dropout layer\n",
    "        \n",
    "        Conv1D(filters=64, kernel_size=5, activation='relu'),\n",
    "        MaxPooling1D(pool_size=2),\n",
    "        Dropout(0.5),  # Dropout layer\n",
    "        LSTM(units=32),\n",
    "        \n",
    "        # Output layer\n",
    "        Dense(units=1, activation='sigmoid')\n",
    "    ])\n",
    "    model.compile(optimizer='adam', loss='binary_crossentropy', metrics=['accuracy'])\n",
    "\n",
    "    return model\n",
    "\n",
    "# Define vocabulary size, embedding dimension, and max sequence length\n",
    "\n",
    "# Create the model\n",
    "conv1d_lstm_model = create_cnn_lstm_model()\n",
    "\n",
    "# Compile the model\n",
    "\n",
    "# Print the model summary\n",
    "conv1d_lstm_model.summary()"
   ]
  },
  {
   "cell_type": "code",
   "execution_count": 28,
   "id": "cd1606c7",
   "metadata": {},
   "outputs": [
    {
     "name": "stdout",
     "output_type": "stream",
     "text": [
      "Epoch 1/20\n",
      "81/81 [==============================] - 6s 31ms/step - loss: 0.5349 - accuracy: 0.6810 - val_loss: 0.2683 - val_accuracy: 0.9111\n",
      "Epoch 2/20\n",
      "81/81 [==============================] - 2s 23ms/step - loss: 0.2154 - accuracy: 0.9312 - val_loss: 0.1575 - val_accuracy: 0.9530\n",
      "Epoch 3/20\n",
      "81/81 [==============================] - 2s 25ms/step - loss: 0.1518 - accuracy: 0.9518 - val_loss: 0.1240 - val_accuracy: 0.9686\n",
      "Epoch 4/20\n",
      "81/81 [==============================] - 2s 28ms/step - loss: 0.1192 - accuracy: 0.9646 - val_loss: 0.0987 - val_accuracy: 0.9669\n",
      "Epoch 5/20\n",
      "81/81 [==============================] - 3s 31ms/step - loss: 0.1141 - accuracy: 0.9661 - val_loss: 0.1241 - val_accuracy: 0.9634\n",
      "Epoch 6/20\n",
      "81/81 [==============================] - 2s 27ms/step - loss: 0.1064 - accuracy: 0.9655 - val_loss: 0.1112 - val_accuracy: 0.9686\n",
      "Epoch 7/20\n",
      "81/81 [==============================] - 2s 28ms/step - loss: 0.0987 - accuracy: 0.9727 - val_loss: 0.0851 - val_accuracy: 0.9704\n",
      "Epoch 8/20\n",
      "81/81 [==============================] - 2s 29ms/step - loss: 0.0931 - accuracy: 0.9733 - val_loss: 0.0835 - val_accuracy: 0.9756\n",
      "Epoch 9/20\n",
      "81/81 [==============================] - 2s 30ms/step - loss: 0.0872 - accuracy: 0.9740 - val_loss: 0.0801 - val_accuracy: 0.9774\n",
      "Epoch 10/20\n",
      "81/81 [==============================] - 2s 29ms/step - loss: 0.0896 - accuracy: 0.9744 - val_loss: 0.0858 - val_accuracy: 0.9739\n",
      "Epoch 11/20\n",
      "81/81 [==============================] - 2s 28ms/step - loss: 0.0781 - accuracy: 0.9775 - val_loss: 0.0781 - val_accuracy: 0.9756\n",
      "Epoch 12/20\n",
      "81/81 [==============================] - 2s 28ms/step - loss: 0.0762 - accuracy: 0.9773 - val_loss: 0.0803 - val_accuracy: 0.9756\n",
      "Epoch 13/20\n",
      "81/81 [==============================] - 2s 25ms/step - loss: 0.0790 - accuracy: 0.9773 - val_loss: 0.0718 - val_accuracy: 0.9774\n",
      "Epoch 14/20\n",
      "81/81 [==============================] - 2s 25ms/step - loss: 0.0705 - accuracy: 0.9793 - val_loss: 0.0657 - val_accuracy: 0.9843\n",
      "Epoch 15/20\n",
      "81/81 [==============================] - 2s 31ms/step - loss: 0.0661 - accuracy: 0.9814 - val_loss: 0.0831 - val_accuracy: 0.9774\n",
      "Epoch 16/20\n",
      "81/81 [==============================] - 2s 26ms/step - loss: 0.0660 - accuracy: 0.9808 - val_loss: 0.0598 - val_accuracy: 0.9826\n",
      "Epoch 17/20\n",
      "81/81 [==============================] - 2s 27ms/step - loss: 0.0649 - accuracy: 0.9831 - val_loss: 0.0801 - val_accuracy: 0.9774\n",
      "Epoch 18/20\n",
      "81/81 [==============================] - 2s 25ms/step - loss: 0.0611 - accuracy: 0.9820 - val_loss: 0.0825 - val_accuracy: 0.9808\n",
      "Epoch 19/20\n",
      "81/81 [==============================] - 2s 24ms/step - loss: 0.0642 - accuracy: 0.9845 - val_loss: 0.0777 - val_accuracy: 0.9826\n",
      "Epoch 20/20\n",
      "81/81 [==============================] - 2s 25ms/step - loss: 0.0605 - accuracy: 0.9820 - val_loss: 0.0643 - val_accuracy: 0.9843\n"
     ]
    },
    {
     "data": {
      "text/plain": [
       "<keras.callbacks.History at 0x176a65cc910>"
      ]
     },
     "execution_count": 28,
     "metadata": {},
     "output_type": "execute_result"
    }
   ],
   "source": [
    "conv1d_lstm_model.fit(X_train, y_train, epochs=20, batch_size=64, validation_data=(X_val, y_val))"
   ]
  },
  {
   "cell_type": "code",
   "execution_count": 29,
   "id": "4d360ce6",
   "metadata": {},
   "outputs": [
    {
     "name": "stdout",
     "output_type": "stream",
     "text": [
      "45/45 [==============================] - 1s 3ms/step\n"
     ]
    },
    {
     "data": {
      "image/png": "[encoded data removed]",
      "text/plain": [
       "<Figure size 800x600 with 2 Axes>"
      ]
     },
     "metadata": {},
     "output_type": "display_data"
    }
   ],
   "source": [
    "plot_confusion_matrix(conv1d_lstm_model, 'Conv1D-LSTM', X_test, y_test)"
   ]
  },
  {
   "cell_type": "code",
   "execution_count": 30,
   "id": "bb6350c7",
   "metadata": {},
   "outputs": [],
   "source": [
    "conv1d_lstm_model.save(\"conv1d_lstm_model.h5\")"
   ]
  },
  {
   "cell_type": "code",
   "execution_count": 31,
   "id": "4a2bd382",
   "metadata": {},
   "outputs": [
    {
     "name": "stdout",
     "output_type": "stream",
     "text": [
      "Model: \"sequential_5\"\n",
      "_________________________________________________________________\n",
      " Layer (type)                Output Shape              Param #   \n",
      "=================================================================\n",
      " embedding_6 (Embedding)     (None, 100, 32)           4576      \n",
      "                                                                 \n",
      " conv1d_15 (Conv1D)          (None, 96, 32)            5152      \n",
      "                                                                 \n",
      " max_pooling1d_11 (MaxPoolin  (None, 48, 32)           0         \n",
      " g1D)                                                            \n",
      "                                                                 \n",
      " dropout_10 (Dropout)        (None, 48, 32)            0         \n",
      "                                                                 \n",
      " conv1d_16 (Conv1D)          (None, 44, 64)            10304     \n",
      "                                                                 \n",
      " global_max_pooling1d_4 (Glo  (None, 64)               0         \n",
      " balMaxPooling1D)                                                \n",
      "                                                                 \n",
      " dense_5 (Dense)             (None, 512)               33280     \n",
      "                                                                 \n",
      " dropout_11 (Dropout)        (None, 512)               0         \n",
      "                                                                 \n",
      " dense_6 (Dense)             (None, 2)                 1026      \n",
      "                                                                 \n",
      "=================================================================\n",
      "Total params: 54,338\n",
      "Trainable params: 54,338\n",
      "Non-trainable params: 0\n",
      "_________________________________________________________________\n"
     ]
    }
   ],
   "source": [
    "def create_cnn_MLP_model():\n",
    "    model = Sequential([\n",
    "        # Embedding layer\n",
    "        Embedding(input_dim=143, output_dim=32, input_length=100),\n",
    "        \n",
    "        # Conv1D layers\n",
    "        Conv1D(filters=32, kernel_size=5, activation='relu'),\n",
    "        MaxPooling1D(pool_size=2),\n",
    "        Dropout(0.5),  # Dropout layer\n",
    "        \n",
    "        Conv1D(filters=64, kernel_size=5, activation='relu'),\n",
    "       \n",
    "        \n",
    "        GlobalMaxPooling1D(),\n",
    "        Dense(units=512, activation='relu'),\n",
    "        Dropout(0.5),  # Dropout layer\n",
    "        \n",
    "        # Second Dense layer\n",
    "        Dense(units=2, activation='softmax')\n",
    "       \n",
    "        \n",
    "      \n",
    "    ])\n",
    "    model.compile(optimizer='adam', loss='binary_crossentropy', metrics=['accuracy'])\n",
    "\n",
    "    return model\n",
    "\n",
    "# Define vocabulary size, embedding dimension, and max sequence length\n",
    "\n",
    "# Create the model\n",
    "conv1d_mlp_model = create_cnn_MLP_model()\n",
    "\n",
    "# Compile the model\n",
    "\n",
    "# Print the model summary\n",
    "conv1d_mlp_model.summary()"
   ]
  },
  {
   "cell_type": "code",
   "execution_count": 33,
   "id": "bb118b4c",
   "metadata": {},
   "outputs": [
    {
     "name": "stdout",
     "output_type": "stream",
     "text": [
      "Epoch 1/25\n"
     ]
    },
    {
     "ename": "ValueError",
     "evalue": "in user code:\n\n    File \"C:\\Users\\91827\\AppData\\Local\\Programs\\Python\\Python310\\lib\\site-packages\\keras\\engine\\training.py\", line 1284, in train_function  *\n        return step_function(self, iterator)\n    File \"C:\\Users\\91827\\AppData\\Local\\Programs\\Python\\Python310\\lib\\site-packages\\keras\\engine\\training.py\", line 1268, in step_function  **\n        outputs = model.distribute_strategy.run(run_step, args=(data,))\n    File \"C:\\Users\\91827\\AppData\\Local\\Programs\\Python\\Python310\\lib\\site-packages\\keras\\engine\\training.py\", line 1249, in run_step  **\n        outputs = model.train_step(data)\n    File \"C:\\Users\\91827\\AppData\\Local\\Programs\\Python\\Python310\\lib\\site-packages\\keras\\engine\\training.py\", line 1051, in train_step\n        loss = self.compute_loss(x, y, y_pred, sample_weight)\n    File \"C:\\Users\\91827\\AppData\\Local\\Programs\\Python\\Python310\\lib\\site-packages\\keras\\engine\\training.py\", line 1109, in compute_loss\n        return self.compiled_loss(\n    File \"C:\\Users\\91827\\AppData\\Local\\Programs\\Python\\Python310\\lib\\site-packages\\keras\\engine\\compile_utils.py\", line 265, in __call__\n        loss_value = loss_obj(y_t, y_p, sample_weight=sw)\n    File \"C:\\Users\\91827\\AppData\\Local\\Programs\\Python\\Python310\\lib\\site-packages\\keras\\losses.py\", line 142, in __call__\n        losses = call_fn(y_true, y_pred)\n    File \"C:\\Users\\91827\\AppData\\Local\\Programs\\Python\\Python310\\lib\\site-packages\\keras\\losses.py\", line 268, in call  **\n        return ag_fn(y_true, y_pred, **self._fn_kwargs)\n    File \"C:\\Users\\91827\\AppData\\Local\\Programs\\Python\\Python310\\lib\\site-packages\\keras\\losses.py\", line 2156, in binary_crossentropy\n        backend.binary_crossentropy(y_true, y_pred, from_logits=from_logits),\n    File \"C:\\Users\\91827\\AppData\\Local\\Programs\\Python\\Python310\\lib\\site-packages\\keras\\backend.py\", line 5707, in binary_crossentropy\n        return tf.nn.sigmoid_cross_entropy_with_logits(\n\n    ValueError: `logits` and `labels` must have the same shape, received ((None, 2) vs (None, 1)).\n",
     "output_type": "error",
     "traceback": [
      "\u001b[1;31m---------------------------------------------------------------------------\u001b[0m",
      "\u001b[1;31mValueError\u001b[0m                                Traceback (most recent call last)",
      "Cell \u001b[1;32mIn[33], line 1\u001b[0m\n\u001b[1;32m----> 1\u001b[0m \u001b[43mconv1d_mlp_model\u001b[49m\u001b[38;5;241;43m.\u001b[39;49m\u001b[43mfit\u001b[49m\u001b[43m(\u001b[49m\u001b[43mX_train\u001b[49m\u001b[43m,\u001b[49m\u001b[43m \u001b[49m\u001b[43my_train\u001b[49m\u001b[43m,\u001b[49m\u001b[43m \u001b[49m\u001b[43mepochs\u001b[49m\u001b[38;5;241;43m=\u001b[39;49m\u001b[38;5;241;43m25\u001b[39;49m\u001b[43m,\u001b[49m\u001b[43m \u001b[49m\u001b[43mbatch_size\u001b[49m\u001b[38;5;241;43m=\u001b[39;49m\u001b[38;5;241;43m64\u001b[39;49m\u001b[43m,\u001b[49m\u001b[43m \u001b[49m\u001b[43mvalidation_data\u001b[49m\u001b[38;5;241;43m=\u001b[39;49m\u001b[43m(\u001b[49m\u001b[43mX_val\u001b[49m\u001b[43m,\u001b[49m\u001b[43m \u001b[49m\u001b[43my_val\u001b[49m\u001b[43m)\u001b[49m\u001b[43m)\u001b[49m\n",
      "File \u001b[1;32m~\\AppData\\Local\\Programs\\Python\\Python310\\lib\\site-packages\\keras\\utils\\traceback_utils.py:70\u001b[0m, in \u001b[0;36mfilter_traceback.<locals>.error_handler\u001b[1;34m(*args, **kwargs)\u001b[0m\n\u001b[0;32m     67\u001b[0m     filtered_tb \u001b[38;5;241m=\u001b[39m _process_traceback_frames(e\u001b[38;5;241m.\u001b[39m__traceback__)\n\u001b[0;32m     68\u001b[0m     \u001b[38;5;66;03m# To get the full stack trace, call:\u001b[39;00m\n\u001b[0;32m     69\u001b[0m     \u001b[38;5;66;03m# `tf.debugging.disable_traceback_filtering()`\u001b[39;00m\n\u001b[1;32m---> 70\u001b[0m     \u001b[38;5;28;01mraise\u001b[39;00m e\u001b[38;5;241m.\u001b[39mwith_traceback(filtered_tb) \u001b[38;5;28;01mfrom\u001b[39;00m \u001b[38;5;28;01mNone\u001b[39;00m\n\u001b[0;32m     71\u001b[0m \u001b[38;5;28;01mfinally\u001b[39;00m:\n\u001b[0;32m     72\u001b[0m     \u001b[38;5;28;01mdel\u001b[39;00m filtered_tb\n",
      "File \u001b[1;32m~\\AppData\\Local\\Temp\\__autograph_generated_filebza4dsfv.py:15\u001b[0m, in \u001b[0;36mouter_factory.<locals>.inner_factory.<locals>.tf__train_function\u001b[1;34m(iterator)\u001b[0m\n\u001b[0;32m     13\u001b[0m \u001b[38;5;28;01mtry\u001b[39;00m:\n\u001b[0;32m     14\u001b[0m     do_return \u001b[38;5;241m=\u001b[39m \u001b[38;5;28;01mTrue\u001b[39;00m\n\u001b[1;32m---> 15\u001b[0m     retval_ \u001b[38;5;241m=\u001b[39m ag__\u001b[38;5;241m.\u001b[39mconverted_call(ag__\u001b[38;5;241m.\u001b[39mld(step_function), (ag__\u001b[38;5;241m.\u001b[39mld(\u001b[38;5;28mself\u001b[39m), ag__\u001b[38;5;241m.\u001b[39mld(iterator)), \u001b[38;5;28;01mNone\u001b[39;00m, fscope)\n\u001b[0;32m     16\u001b[0m \u001b[38;5;28;01mexcept\u001b[39;00m:\n\u001b[0;32m     17\u001b[0m     do_return \u001b[38;5;241m=\u001b[39m \u001b[38;5;28;01mFalse\u001b[39;00m\n",
      "\u001b[1;31mValueError\u001b[0m: in user code:\n\n    File \"C:\\Users\\91827\\AppData\\Local\\Programs\\Python\\Python310\\lib\\site-packages\\keras\\engine\\training.py\", line 1284, in train_function  *\n        return step_function(self, iterator)\n    File \"C:\\Users\\91827\\AppData\\Local\\Programs\\Python\\Python310\\lib\\site-packages\\keras\\engine\\training.py\", line 1268, in step_function  **\n        outputs = model.distribute_strategy.run(run_step, args=(data,))\n    File \"C:\\Users\\91827\\AppData\\Local\\Programs\\Python\\Python310\\lib\\site-packages\\keras\\engine\\training.py\", line 1249, in run_step  **\n        outputs = model.train_step(data)\n    File \"C:\\Users\\91827\\AppData\\Local\\Programs\\Python\\Python310\\lib\\site-packages\\keras\\engine\\training.py\", line 1051, in train_step\n        loss = self.compute_loss(x, y, y_pred, sample_weight)\n    File \"C:\\Users\\91827\\AppData\\Local\\Programs\\Python\\Python310\\lib\\site-packages\\keras\\engine\\training.py\", line 1109, in compute_loss\n        return self.compiled_loss(\n    File \"C:\\Users\\91827\\AppData\\Local\\Programs\\Python\\Python310\\lib\\site-packages\\keras\\engine\\compile_utils.py\", line 265, in __call__\n        loss_value = loss_obj(y_t, y_p, sample_weight=sw)\n    File \"C:\\Users\\91827\\AppData\\Local\\Programs\\Python\\Python310\\lib\\site-packages\\keras\\losses.py\", line 142, in __call__\n        losses = call_fn(y_true, y_pred)\n    File \"C:\\Users\\91827\\AppData\\Local\\Programs\\Python\\Python310\\lib\\site-packages\\keras\\losses.py\", line 268, in call  **\n        return ag_fn(y_true, y_pred, **self._fn_kwargs)\n    File \"C:\\Users\\91827\\AppData\\Local\\Programs\\Python\\Python310\\lib\\site-packages\\keras\\losses.py\", line 2156, in binary_crossentropy\n        backend.binary_crossentropy(y_true, y_pred, from_logits=from_logits),\n    File \"C:\\Users\\91827\\AppData\\Local\\Programs\\Python\\Python310\\lib\\site-packages\\keras\\backend.py\", line 5707, in binary_crossentropy\n        return tf.nn.sigmoid_cross_entropy_with_logits(\n\n    ValueError: `logits` and `labels` must have the same shape, received ((None, 2) vs (None, 1)).\n"
     ]
    }
   ],
   "source": [
    "conv1d_mlp_model.fit(X_train, y_train, epochs=25, batch_size=64, validation_data=(X_val, y_val))"
   ]
  },
  {
   "cell_type": "code",
   "execution_count": 32,
   "id": "84624ff5",
   "metadata": {},
   "outputs": [
    {
     "name": "stdout",
     "output_type": "stream",
     "text": [
      "45/45 [==============================] - 0s 1ms/step\n"
     ]
    },
    {
     "ename": "ValueError",
     "evalue": "Classification metrics can't handle a mix of binary and multilabel-indicator targets",
     "output_type": "error",
     "traceback": [
      "\u001b[1;31m---------------------------------------------------------------------------\u001b[0m",
      "\u001b[1;31mValueError\u001b[0m                                Traceback (most recent call last)",
      "Cell \u001b[1;32mIn[32], line 1\u001b[0m\n\u001b[1;32m----> 1\u001b[0m \u001b[43mplot_confusion_matrix\u001b[49m\u001b[43m(\u001b[49m\u001b[43mconv1d_mlp_model\u001b[49m\u001b[43m,\u001b[49m\u001b[43m \u001b[49m\u001b[38;5;124;43m'\u001b[39;49m\u001b[38;5;124;43mConv1D-MLP\u001b[39;49m\u001b[38;5;124;43m'\u001b[39;49m\u001b[43m,\u001b[49m\u001b[43m \u001b[49m\u001b[43mX_test\u001b[49m\u001b[43m,\u001b[49m\u001b[43m \u001b[49m\u001b[43my_test\u001b[49m\u001b[43m)\u001b[49m\n",
      "Cell \u001b[1;32mIn[11], line 10\u001b[0m, in \u001b[0;36mplot_confusion_matrix\u001b[1;34m(model, model_name, X_test, y_test)\u001b[0m\n\u001b[0;32m      7\u001b[0m y_pred \u001b[38;5;241m=\u001b[39m model\u001b[38;5;241m.\u001b[39mpredict(X_test)\n\u001b[0;32m      8\u001b[0m y_pred_classes \u001b[38;5;241m=\u001b[39m (y_pred \u001b[38;5;241m>\u001b[39m \u001b[38;5;241m0.5\u001b[39m)\u001b[38;5;241m.\u001b[39mastype(\u001b[38;5;124m\"\u001b[39m\u001b[38;5;124mint32\u001b[39m\u001b[38;5;124m\"\u001b[39m)\n\u001b[1;32m---> 10\u001b[0m conf_matrix \u001b[38;5;241m=\u001b[39m \u001b[43mconfusion_matrix\u001b[49m\u001b[43m(\u001b[49m\u001b[43my_test\u001b[49m\u001b[43m,\u001b[49m\u001b[43m \u001b[49m\u001b[43my_pred_classes\u001b[49m\u001b[43m)\u001b[49m\n\u001b[0;32m     12\u001b[0m accuracy \u001b[38;5;241m=\u001b[39m accuracy_score(y_test, y_pred_classes)\n\u001b[0;32m     13\u001b[0m precision \u001b[38;5;241m=\u001b[39m precision_score(y_test, y_pred_classes)\n",
      "File \u001b[1;32m~\\AppData\\Local\\Programs\\Python\\Python310\\lib\\site-packages\\sklearn\\metrics\\_classification.py:317\u001b[0m, in \u001b[0;36mconfusion_matrix\u001b[1;34m(y_true, y_pred, labels, sample_weight, normalize)\u001b[0m\n\u001b[0;32m    232\u001b[0m \u001b[38;5;28;01mdef\u001b[39;00m \u001b[38;5;21mconfusion_matrix\u001b[39m(\n\u001b[0;32m    233\u001b[0m     y_true, y_pred, \u001b[38;5;241m*\u001b[39m, labels\u001b[38;5;241m=\u001b[39m\u001b[38;5;28;01mNone\u001b[39;00m, sample_weight\u001b[38;5;241m=\u001b[39m\u001b[38;5;28;01mNone\u001b[39;00m, normalize\u001b[38;5;241m=\u001b[39m\u001b[38;5;28;01mNone\u001b[39;00m\n\u001b[0;32m    234\u001b[0m ):\n\u001b[0;32m    235\u001b[0m \u001b[38;5;250m    \u001b[39m\u001b[38;5;124;03m\"\"\"Compute confusion matrix to evaluate the accuracy of a classification.\u001b[39;00m\n\u001b[0;32m    236\u001b[0m \n\u001b[0;32m    237\u001b[0m \u001b[38;5;124;03m    By definition a confusion matrix :math:`C` is such that :math:`C_{i, j}`\u001b[39;00m\n\u001b[1;32m   (...)\u001b[0m\n\u001b[0;32m    315\u001b[0m \u001b[38;5;124;03m    (0, 2, 1, 1)\u001b[39;00m\n\u001b[0;32m    316\u001b[0m \u001b[38;5;124;03m    \"\"\"\u001b[39;00m\n\u001b[1;32m--> 317\u001b[0m     y_type, y_true, y_pred \u001b[38;5;241m=\u001b[39m \u001b[43m_check_targets\u001b[49m\u001b[43m(\u001b[49m\u001b[43my_true\u001b[49m\u001b[43m,\u001b[49m\u001b[43m \u001b[49m\u001b[43my_pred\u001b[49m\u001b[43m)\u001b[49m\n\u001b[0;32m    318\u001b[0m     \u001b[38;5;28;01mif\u001b[39;00m y_type \u001b[38;5;129;01mnot\u001b[39;00m \u001b[38;5;129;01min\u001b[39;00m (\u001b[38;5;124m\"\u001b[39m\u001b[38;5;124mbinary\u001b[39m\u001b[38;5;124m\"\u001b[39m, \u001b[38;5;124m\"\u001b[39m\u001b[38;5;124mmulticlass\u001b[39m\u001b[38;5;124m\"\u001b[39m):\n\u001b[0;32m    319\u001b[0m         \u001b[38;5;28;01mraise\u001b[39;00m \u001b[38;5;167;01mValueError\u001b[39;00m(\u001b[38;5;124m\"\u001b[39m\u001b[38;5;132;01m%s\u001b[39;00m\u001b[38;5;124m is not supported\u001b[39m\u001b[38;5;124m\"\u001b[39m \u001b[38;5;241m%\u001b[39m y_type)\n",
      "File \u001b[1;32m~\\AppData\\Local\\Programs\\Python\\Python310\\lib\\site-packages\\sklearn\\metrics\\_classification.py:95\u001b[0m, in \u001b[0;36m_check_targets\u001b[1;34m(y_true, y_pred)\u001b[0m\n\u001b[0;32m     92\u001b[0m     y_type \u001b[38;5;241m=\u001b[39m {\u001b[38;5;124m\"\u001b[39m\u001b[38;5;124mmulticlass\u001b[39m\u001b[38;5;124m\"\u001b[39m}\n\u001b[0;32m     94\u001b[0m \u001b[38;5;28;01mif\u001b[39;00m \u001b[38;5;28mlen\u001b[39m(y_type) \u001b[38;5;241m>\u001b[39m \u001b[38;5;241m1\u001b[39m:\n\u001b[1;32m---> 95\u001b[0m     \u001b[38;5;28;01mraise\u001b[39;00m \u001b[38;5;167;01mValueError\u001b[39;00m(\n\u001b[0;32m     96\u001b[0m         \u001b[38;5;124m\"\u001b[39m\u001b[38;5;124mClassification metrics can\u001b[39m\u001b[38;5;124m'\u001b[39m\u001b[38;5;124mt handle a mix of \u001b[39m\u001b[38;5;132;01m{0}\u001b[39;00m\u001b[38;5;124m and \u001b[39m\u001b[38;5;132;01m{1}\u001b[39;00m\u001b[38;5;124m targets\u001b[39m\u001b[38;5;124m\"\u001b[39m\u001b[38;5;241m.\u001b[39mformat(\n\u001b[0;32m     97\u001b[0m             type_true, type_pred\n\u001b[0;32m     98\u001b[0m         )\n\u001b[0;32m     99\u001b[0m     )\n\u001b[0;32m    101\u001b[0m \u001b[38;5;66;03m# We can't have more than one value on y_type => The set is no more needed\u001b[39;00m\n\u001b[0;32m    102\u001b[0m y_type \u001b[38;5;241m=\u001b[39m y_type\u001b[38;5;241m.\u001b[39mpop()\n",
      "\u001b[1;31mValueError\u001b[0m: Classification metrics can't handle a mix of binary and multilabel-indicator targets"
     ]
    }
   ],
   "source": [
    "plot_confusion_matrix(conv1d_mlp_model, 'Conv1D-MLP', X_test, y_test)"
   ]
  },
  {
   "cell_type": "code",
   "execution_count": 22,
   "id": "babe5d49",
   "metadata": {},
   "outputs": [],
   "source": [
    "conv1d_mlp_model.save(\"conv1d_mlp_model.h5\")"
   ]
  },
  {
   "cell_type": "code",
   "execution_count": 34,
   "id": "89542abb",
   "metadata": {},
   "outputs": [],
   "source": [
    "def cnn_lstm_Model():\n",
    "    model = Sequential([\n",
    "        Embedding(input_dim=143, output_dim=64, input_length=100),\n",
    "        Conv1D(64, 5, activation='relu'),\n",
    "        MaxPooling1D(pool_size=4),\n",
    "        LSTM(128),\n",
    "        Dense(1, activation='sigmoid')\n",
    "    ])\n",
    "    model.compile(optimizer='adam', loss='binary_crossentropy', metrics=['accuracy'])\n",
    "    return model\n",
    "\n",
    "def mlp_lstm_Model():\n",
    "    model = Sequential([\n",
    "        Embedding(input_dim=len(tokenizer.word_index) + 1, output_dim=64, input_length=max_sequence_length),\n",
    "        LSTM(128, return_sequences=True),\n",
    "        Flatten(),\n",
    "        Dense(64, activation='relu'),\n",
    "        Dense(1, activation='sigmoid')\n",
    "    ])\n",
    "    model.compile(optimizer='adam', loss='binary_crossentropy', metrics=['accuracy'])\n",
    "    return model\n",
    "\n",
    "def cnn_lstm_dropout_Model():\n",
    "    model = Sequential([\n",
    "        Embedding(input_dim=len(tokenizer.word_index) + 1, output_dim=64, input_length=max_sequence_length),\n",
    "        Conv1D(64, 5, activation='relu'),\n",
    "        MaxPooling1D(pool_size=4),\n",
    "        LSTM(128),\n",
    "        Dropout(0.5),\n",
    "        Dense(1, activation='sigmoid')\n",
    "    ])\n",
    "    model.compile(optimizer='adam', loss='binary_crossentropy', metrics=['accuracy'])\n",
    "    return model\n",
    "\n",
    "def cnn_lstm_flatten_Model():\n",
    "    model = Sequential([\n",
    "        Embedding(input_dim=len(tokenizer.word_index) + 1, output_dim=64, input_length=max_sequence_length),\n",
    "        Conv1D(64, 5, activation='relu'),\n",
    "        MaxPooling1D(pool_size=4),\n",
    "        LSTM(128),\n",
    "        Flatten(),\n",
    "        Dense(1, activation='sigmoid')\n",
    "    ])\n",
    "    model.compile(optimizer='adam', loss='binary_crossentropy', metrics=['accuracy'])\n",
    "    return model\n",
    "\n",
    "def test_model():\n",
    "    model = Sequential([\n",
    "        Embedding(input_dim=len(tokenizer.word_index) + 1, output_dim=64, input_length=max_sequence_length),\n",
    "        LSTM(128),\n",
    "        Dense(1, activation='sigmoid')\n",
    "    ])\n",
    "    model.compile(optimizer='adam', loss='binary_crossentropy', metrics=['accuracy'])\n",
    "    return model\n",
    "\n"
   ]
  },
  {
   "cell_type": "code",
   "execution_count": 35,
   "id": "e3cdaf36",
   "metadata": {},
   "outputs": [],
   "source": [
    "test_model=cnn_lstm_Model()"
   ]
  },
  {
   "cell_type": "code",
   "execution_count": 36,
   "id": "2bb62192",
   "metadata": {},
   "outputs": [
    {
     "name": "stdout",
     "output_type": "stream",
     "text": [
      "Epoch 1/25\n",
      "81/81 [==============================] - 5s 41ms/step - loss: 0.3591 - accuracy: 0.8193 - val_loss: 0.1290 - val_accuracy: 0.9652\n",
      "Epoch 2/25\n",
      "81/81 [==============================] - 3s 36ms/step - loss: 0.1112 - accuracy: 0.9682 - val_loss: 0.1241 - val_accuracy: 0.9739\n",
      "Epoch 3/25\n",
      "81/81 [==============================] - 3s 41ms/step - loss: 0.0859 - accuracy: 0.9775 - val_loss: 0.1073 - val_accuracy: 0.9721\n",
      "Epoch 4/25\n",
      "81/81 [==============================] - 3s 39ms/step - loss: 0.0836 - accuracy: 0.9773 - val_loss: 0.0825 - val_accuracy: 0.9739\n",
      "Epoch 5/25\n",
      "81/81 [==============================] - 3s 36ms/step - loss: 0.0797 - accuracy: 0.9787 - val_loss: 0.0846 - val_accuracy: 0.9739\n",
      "Epoch 6/25\n",
      "81/81 [==============================] - 3s 40ms/step - loss: 0.0631 - accuracy: 0.9835 - val_loss: 0.0736 - val_accuracy: 0.9721\n",
      "Epoch 7/25\n",
      "81/81 [==============================] - 3s 39ms/step - loss: 0.0658 - accuracy: 0.9810 - val_loss: 0.0939 - val_accuracy: 0.9756\n",
      "Epoch 8/25\n",
      "81/81 [==============================] - 3s 37ms/step - loss: 0.0633 - accuracy: 0.9839 - val_loss: 0.0618 - val_accuracy: 0.9808\n",
      "Epoch 9/25\n",
      "81/81 [==============================] - 3s 38ms/step - loss: 0.0514 - accuracy: 0.9884 - val_loss: 0.0615 - val_accuracy: 0.9843\n",
      "Epoch 10/25\n",
      "81/81 [==============================] - 3s 39ms/step - loss: 0.0697 - accuracy: 0.9804 - val_loss: 0.0702 - val_accuracy: 0.9808\n",
      "Epoch 11/25\n",
      "81/81 [==============================] - 3s 38ms/step - loss: 0.0453 - accuracy: 0.9893 - val_loss: 0.0670 - val_accuracy: 0.9843\n",
      "Epoch 12/25\n",
      "81/81 [==============================] - 3s 37ms/step - loss: 0.0514 - accuracy: 0.9847 - val_loss: 0.0593 - val_accuracy: 0.9791\n",
      "Epoch 13/25\n",
      "81/81 [==============================] - 3s 40ms/step - loss: 0.0585 - accuracy: 0.9833 - val_loss: 0.0885 - val_accuracy: 0.9774\n",
      "Epoch 14/25\n",
      "81/81 [==============================] - 3s 38ms/step - loss: 0.0460 - accuracy: 0.9880 - val_loss: 0.0972 - val_accuracy: 0.9686\n",
      "Epoch 15/25\n",
      "81/81 [==============================] - 3s 39ms/step - loss: 0.0414 - accuracy: 0.9893 - val_loss: 0.0593 - val_accuracy: 0.9826\n",
      "Epoch 16/25\n",
      "81/81 [==============================] - 3s 38ms/step - loss: 0.0350 - accuracy: 0.9921 - val_loss: 0.0777 - val_accuracy: 0.9826\n",
      "Epoch 17/25\n",
      "81/81 [==============================] - 3s 38ms/step - loss: 0.0323 - accuracy: 0.9924 - val_loss: 0.0912 - val_accuracy: 0.9826\n",
      "Epoch 18/25\n",
      "81/81 [==============================] - 3s 38ms/step - loss: 0.0397 - accuracy: 0.9897 - val_loss: 0.0904 - val_accuracy: 0.9826\n",
      "Epoch 19/25\n",
      "81/81 [==============================] - 3s 37ms/step - loss: 0.0390 - accuracy: 0.9897 - val_loss: 0.0733 - val_accuracy: 0.9808\n",
      "Epoch 20/25\n",
      "81/81 [==============================] - 3s 37ms/step - loss: 0.0370 - accuracy: 0.9917 - val_loss: 0.1136 - val_accuracy: 0.9721\n",
      "Epoch 21/25\n",
      "81/81 [==============================] - 3s 38ms/step - loss: 0.0351 - accuracy: 0.9919 - val_loss: 0.0853 - val_accuracy: 0.9808\n",
      "Epoch 22/25\n",
      "81/81 [==============================] - 3s 39ms/step - loss: 0.0371 - accuracy: 0.9905 - val_loss: 0.0690 - val_accuracy: 0.9791\n",
      "Epoch 23/25\n",
      "81/81 [==============================] - 3s 40ms/step - loss: 0.0347 - accuracy: 0.9903 - val_loss: 0.0975 - val_accuracy: 0.9791\n",
      "Epoch 24/25\n",
      "81/81 [==============================] - 3s 39ms/step - loss: 0.0291 - accuracy: 0.9934 - val_loss: 0.1010 - val_accuracy: 0.9843\n",
      "Epoch 25/25\n",
      "81/81 [==============================] - 3s 38ms/step - loss: 0.0766 - accuracy: 0.9789 - val_loss: 0.0700 - val_accuracy: 0.9843\n"
     ]
    },
    {
     "data": {
      "text/plain": [
       "<keras.callbacks.History at 0x176a9822fb0>"
      ]
     },
     "execution_count": 36,
     "metadata": {},
     "output_type": "execute_result"
    }
   ],
   "source": [
    "test_model.fit(X_train, y_train, epochs=25, batch_size=64, validation_data=(X_val, y_val))"
   ]
  },
  {
   "cell_type": "code",
   "execution_count": 37,
   "id": "d9e89036",
   "metadata": {},
   "outputs": [
    {
     "name": "stdout",
     "output_type": "stream",
     "text": [
      "45/45 [==============================] - 1s 7ms/step\n"
     ]
    },
    {
     "data": {
      "image/png": "[encoded data removed]",
      "text/plain": [
       "<Figure size 800x600 with 2 Axes>"
      ]
     },
     "metadata": {},
     "output_type": "display_data"
    }
   ],
   "source": [
    "plot_confusion_matrix(test_model, 'cnn-lstm', X_test, y_test)"
   ]
  },
  {
   "cell_type": "code",
   "execution_count": 38,
   "id": "35d9081e",
   "metadata": {},
   "outputs": [
    {
     "ename": "AttributeError",
     "evalue": "'list' object has no attribute 'get'",
     "output_type": "error",
     "traceback": [
      "\u001b[1;31m---------------------------------------------------------------------------\u001b[0m",
      "\u001b[1;31mAttributeError\u001b[0m                            Traceback (most recent call last)",
      "Cell \u001b[1;32mIn[38], line 44\u001b[0m\n\u001b[0;32m     42\u001b[0m model_file \u001b[38;5;241m=\u001b[39m \u001b[38;5;124m'\u001b[39m\u001b[38;5;124mconv1d_model.h5\u001b[39m\u001b[38;5;124m'\u001b[39m  \u001b[38;5;66;03m# Specify the path to your trained model file\u001b[39;00m\n\u001b[0;32m     43\u001b[0m opcode_string \u001b[38;5;241m=\u001b[39m \u001b[38;5;124m\"\u001b[39m\u001b[38;5;124mPUSH1 0x60 PUSH1 0x40 MSTORE CALLDATASIZE ISZERO PUSH2 0x185 JUMPI PUSH4 0xffffffff PUSH1 0xe0 PUSH1 0x2 EXP PUSH1 0\u001b[39m\u001b[38;5;124m\"\u001b[39m\n\u001b[1;32m---> 44\u001b[0m predictions \u001b[38;5;241m=\u001b[39m \u001b[43mload_and_predict\u001b[49m\u001b[43m(\u001b[49m\u001b[43mmodel_file\u001b[49m\u001b[43m,\u001b[49m\u001b[43m \u001b[49m\u001b[43mopcode_string\u001b[49m\u001b[43m)\u001b[49m\n\u001b[0;32m     45\u001b[0m \u001b[38;5;28mprint\u001b[39m(\u001b[38;5;124m\"\u001b[39m\u001b[38;5;124mPredictions:\u001b[39m\u001b[38;5;124m\"\u001b[39m, predictions)\n",
      "Cell \u001b[1;32mIn[38], line 31\u001b[0m, in \u001b[0;36mload_and_predict\u001b[1;34m(model_file, opcode_string)\u001b[0m\n\u001b[0;32m     29\u001b[0m \u001b[38;5;66;03m# Preprocess the opcode string\u001b[39;00m\n\u001b[0;32m     30\u001b[0m max_sequence_length \u001b[38;5;241m=\u001b[39m \u001b[38;5;241m100\u001b[39m  \u001b[38;5;66;03m# Specify the maximum sequence length\u001b[39;00m\n\u001b[1;32m---> 31\u001b[0m preprocessed_input \u001b[38;5;241m=\u001b[39m \u001b[43mpreprocess_opcode\u001b[49m\u001b[43m(\u001b[49m\u001b[43mopcode_string\u001b[49m\u001b[43m,\u001b[49m\u001b[43m \u001b[49m\u001b[43mvocabulary\u001b[49m\u001b[43m,\u001b[49m\u001b[43m \u001b[49m\u001b[43mmax_sequence_length\u001b[49m\u001b[43m)\u001b[49m\n\u001b[0;32m     33\u001b[0m \u001b[38;5;66;03m# Load the model\u001b[39;00m\n\u001b[0;32m     34\u001b[0m model \u001b[38;5;241m=\u001b[39m load_model(model_file)\n",
      "Cell \u001b[1;32mIn[38], line 17\u001b[0m, in \u001b[0;36mpreprocess_opcode\u001b[1;34m(opcode_string, vocabulary, max_sequence_length)\u001b[0m\n\u001b[0;32m     14\u001b[0m opcodes \u001b[38;5;241m=\u001b[39m re\u001b[38;5;241m.\u001b[39mfindall(\u001b[38;5;124mr\u001b[39m\u001b[38;5;124m'\u001b[39m\u001b[38;5;124m\\\u001b[39m\u001b[38;5;124mb[A-Z0-9]+(?=\u001b[39m\u001b[38;5;124m\\\u001b[39m\u001b[38;5;124ms|$)\u001b[39m\u001b[38;5;124m'\u001b[39m, opcode_string)\n\u001b[0;32m     16\u001b[0m \u001b[38;5;66;03m# Map opcodes to integer sequences using the custom vocabulary\u001b[39;00m\n\u001b[1;32m---> 17\u001b[0m opcode_sequence \u001b[38;5;241m=\u001b[39m [vocabulary\u001b[38;5;241m.\u001b[39mget(opcode, \u001b[38;5;241m0\u001b[39m) \u001b[38;5;28;01mfor\u001b[39;00m opcode \u001b[38;5;129;01min\u001b[39;00m opcodes]\n\u001b[0;32m     19\u001b[0m \u001b[38;5;66;03m# Pad the sequence to the maximum sequence length\u001b[39;00m\n\u001b[0;32m     20\u001b[0m opcode_sequence_padded \u001b[38;5;241m=\u001b[39m pad_sequences([opcode_sequence], maxlen\u001b[38;5;241m=\u001b[39mmax_sequence_length, padding\u001b[38;5;241m=\u001b[39m\u001b[38;5;124m'\u001b[39m\u001b[38;5;124mpost\u001b[39m\u001b[38;5;124m'\u001b[39m, truncating\u001b[38;5;241m=\u001b[39m\u001b[38;5;124m'\u001b[39m\u001b[38;5;124mpost\u001b[39m\u001b[38;5;124m'\u001b[39m)\n",
      "Cell \u001b[1;32mIn[38], line 17\u001b[0m, in \u001b[0;36m<listcomp>\u001b[1;34m(.0)\u001b[0m\n\u001b[0;32m     14\u001b[0m opcodes \u001b[38;5;241m=\u001b[39m re\u001b[38;5;241m.\u001b[39mfindall(\u001b[38;5;124mr\u001b[39m\u001b[38;5;124m'\u001b[39m\u001b[38;5;124m\\\u001b[39m\u001b[38;5;124mb[A-Z0-9]+(?=\u001b[39m\u001b[38;5;124m\\\u001b[39m\u001b[38;5;124ms|$)\u001b[39m\u001b[38;5;124m'\u001b[39m, opcode_string)\n\u001b[0;32m     16\u001b[0m \u001b[38;5;66;03m# Map opcodes to integer sequences using the custom vocabulary\u001b[39;00m\n\u001b[1;32m---> 17\u001b[0m opcode_sequence \u001b[38;5;241m=\u001b[39m [\u001b[43mvocabulary\u001b[49m\u001b[38;5;241;43m.\u001b[39;49m\u001b[43mget\u001b[49m(opcode, \u001b[38;5;241m0\u001b[39m) \u001b[38;5;28;01mfor\u001b[39;00m opcode \u001b[38;5;129;01min\u001b[39;00m opcodes]\n\u001b[0;32m     19\u001b[0m \u001b[38;5;66;03m# Pad the sequence to the maximum sequence length\u001b[39;00m\n\u001b[0;32m     20\u001b[0m opcode_sequence_padded \u001b[38;5;241m=\u001b[39m pad_sequences([opcode_sequence], maxlen\u001b[38;5;241m=\u001b[39mmax_sequence_length, padding\u001b[38;5;241m=\u001b[39m\u001b[38;5;124m'\u001b[39m\u001b[38;5;124mpost\u001b[39m\u001b[38;5;124m'\u001b[39m, truncating\u001b[38;5;241m=\u001b[39m\u001b[38;5;124m'\u001b[39m\u001b[38;5;124mpost\u001b[39m\u001b[38;5;124m'\u001b[39m)\n",
      "\u001b[1;31mAttributeError\u001b[0m: 'list' object has no attribute 'get'"
     ]
    }
   ],
   "source": [
    "import re\n",
    "import numpy as np\n",
    "import pickle\n",
    "from tensorflow.keras.models import load_model\n",
    "from tensorflow.keras.preprocessing.sequence import pad_sequences\n",
    "\n",
    "def load_vocabulary(vocabulary_file):\n",
    "    with open(vocabulary_file, 'rb') as f:\n",
    "        vocabulary = pickle.load(f)\n",
    "    return vocabulary\n",
    "\n",
    "def preprocess_opcode(opcode_string, vocabulary, max_sequence_length):\n",
    "    # Extract opcodes from the opcode string\n",
    "    opcodes = re.findall(r'\\b[A-Z0-9]+(?=\\s|$)', opcode_string)\n",
    "    \n",
    "    # Map opcodes to integer sequences using the custom vocabulary\n",
    "    opcode_sequence = [vocabulary.get(opcode, 0) for opcode in opcodes]\n",
    "    \n",
    "    # Pad the sequence to the maximum sequence length\n",
    "    opcode_sequence_padded = pad_sequences([opcode_sequence], maxlen=max_sequence_length, padding='post', truncating='post')\n",
    "    \n",
    "    return opcode_sequence_padded\n",
    "\n",
    "def load_and_predict(model_file, opcode_string):\n",
    "    # Load the vocabulary\n",
    "    vocabulary_file = 'opcode_vocab.pkl'  # Specify the path to your vocabulary file\n",
    "    vocabulary = load_vocabulary(vocabulary_file)\n",
    "    \n",
    "    # Preprocess the opcode string\n",
    "    max_sequence_length = 100  # Specify the maximum sequence length\n",
    "    preprocessed_input = preprocess_opcode(opcode_string, vocabulary, max_sequence_length)\n",
    "    \n",
    "    # Load the model\n",
    "    model = load_model(model_file)\n",
    "    \n",
    "    # Predict using the loaded model\n",
    "    predictions = model.predict(preprocessed_input)\n",
    "    \n",
    "    return predictions\n",
    "\n",
    "# Example usage:\n",
    "model_file = 'conv1d_model.h5'  # Specify the path to your trained model file\n",
    "opcode_string = \"PUSH1 0x60 PUSH1 0x40 MSTORE CALLDATASIZE ISZERO PUSH2 0x185 JUMPI PUSH4 0xffffffff PUSH1 0xe0 PUSH1 0x2 EXP PUSH1 0\"\n",
    "predictions = load_and_predict(model_file, opcode_string)\n",
    "print(\"Predictions:\", predictions)\n"
   ]
  },
  {
   "cell_type": "code",
   "execution_count": null,
   "id": "ffe2fd30",
   "metadata": {},
   "outputs": [],
   "source": []
  }
 ],
 "metadata": {
  "kernelspec": {
   "display_name": "Python 3 (ipykernel)",
   "language": "python",
   "name": "python3"
  },
  "language_info": {
   "codemirror_mode": {
    "name": "ipython",
    "version": 3
   },
   "file_extension": ".py",
   "mimetype": "text/x-python",
   "name": "python",
   "nbconvert_exporter": "python",
   "pygments_lexer": "ipython3",
   "version": "3.10.1"
  }
 },
 "nbformat": 4,
 "nbformat_minor": 5
}
