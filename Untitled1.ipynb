{
 "cells": [
  {
   "cell_type": "code",
   "execution_count": 1,
   "id": "bf9e8a7f",
   "metadata": {},
   "outputs": [],
   "source": [
    "import pandas as pd\n",
    "from sklearn.model_selection import train_test_split\n",
    "from tensorflow.keras.preprocessing.text import Tokenizer\n",
    "from tensorflow.keras.preprocessing.sequence import pad_sequences\n",
    "from tensorflow.keras.models import Sequential\n",
    "from tensorflow.keras.layers import Embedding, LSTM, Dense\n",
    "\n",
    "    \n",
    "   \n",
    "\n",
    "\n"
   ]
  },
  {
   "cell_type": "code",
   "execution_count": 2,
   "id": "67b0b12f",
   "metadata": {},
   "outputs": [],
   "source": [
    "data = pd.read_csv('Ponzi_contracts.csv')"
   ]
  },
  {
   "cell_type": "code",
   "execution_count": 25,
   "id": "dc082386",
   "metadata": {},
   "outputs": [
    {
     "name": "stdout",
     "output_type": "stream",
     "text": [
      "Collecting imblearn\n",
      "  Downloading imblearn-0.0-py2.py3-none-any.whl.metadata (355 bytes)\n",
      "Collecting imbalanced-learn (from imblearn)\n",
      "  Downloading imbalanced_learn-0.12.2-py3-none-any.whl.metadata (8.2 kB)\n",
      "Requirement already satisfied: numpy>=1.17.3 in c:\\users\\91827\\appdata\\local\\programs\\python\\python310\\lib\\site-packages (from imbalanced-learn->imblearn) (1.23.5)\n",
      "Requirement already satisfied: scipy>=1.5.0 in c:\\users\\91827\\appdata\\local\\programs\\python\\python310\\lib\\site-packages (from imbalanced-learn->imblearn) (1.10.1)\n",
      "Requirement already satisfied: scikit-learn>=1.0.2 in c:\\users\\91827\\appdata\\local\\programs\\python\\python310\\lib\\site-packages (from imbalanced-learn->imblearn) (1.2.2)\n",
      "Requirement already satisfied: joblib>=1.1.1 in c:\\users\\91827\\appdata\\local\\programs\\python\\python310\\lib\\site-packages (from imbalanced-learn->imblearn) (1.2.0)\n",
      "Requirement already satisfied: threadpoolctl>=2.0.0 in c:\\users\\91827\\appdata\\local\\programs\\python\\python310\\lib\\site-packages (from imbalanced-learn->imblearn) (3.1.0)\n",
      "Downloading imblearn-0.0-py2.py3-none-any.whl (1.9 kB)\n",
      "Downloading imbalanced_learn-0.12.2-py3-none-any.whl (257 kB)\n",
      "   ---------------------------------------- 0.0/258.0 kB ? eta -:--:--\n",
      "   ---------------------------------------- 258.0/258.0 kB 8.0 MB/s eta 0:00:00\n",
      "Installing collected packages: imbalanced-learn, imblearn\n",
      "Successfully installed imbalanced-learn-0.12.2 imblearn-0.0\n"
     ]
    },
    {
     "name": "stderr",
     "output_type": "stream",
     "text": [
      "\n",
      "[notice] A new release of pip is available: 23.3.1 -> 24.0\n",
      "[notice] To update, run: python.exe -m pip install --upgrade pip\n"
     ]
    }
   ],
   "source": [
    "!pip install imblearn"
   ]
  },
  {
   "cell_type": "code",
   "execution_count": 3,
   "id": "0a28f70f",
   "metadata": {},
   "outputs": [
    {
     "name": "stdout",
     "output_type": "stream",
     "text": [
      "Preprocessed DataFrame:\n",
      "                                         address  label  \\\n",
      "0     0x582b2489710a4189ad558b6958641789587fcc27      1   \n",
      "1     0xeb4245c88c660ae4ee23c76954e5490ccd7bbd82      1   \n",
      "2     0xd92d62ce8504e5c61aa17d9a9b13c65dbd77c268      1   \n",
      "3     0xc352add7ad8cac8baa839d8c88e7e9d7df9a219b      1   \n",
      "4     0x3f4dd010fbbc9a9b6d95f1f53837d7e9f3befac8      1   \n",
      "...                                          ...    ...   \n",
      "3781  0x2ef76694fbfd691141d83f921a5ba710525de9b0      0   \n",
      "3782  0x1d11e5eae3112dbd44f99266872ff1d07c77dce8      0   \n",
      "3783  0xf05782932dbabde1d657a5311fc3b78db81c60e7      0   \n",
      "3784  0xd79b4c6791784184e2755b2fc1659eaab0f80456      0   \n",
      "3785  0xb0f94af0cfccc76113bb5ba2c2d89d56221b18a5      0   \n",
      "\n",
      "                                                 opcode  \\\n",
      "0     ADD ADDRESS AND BALANCE CALL CALLDATALOAD CALL...   \n",
      "1     ADD ADDRESS AND BALANCE CALL CALLDATALOAD CALL...   \n",
      "2     ADD ADDRESS AND BALANCE CALL CALLDATACOPY CALL...   \n",
      "3     ADD AND CALL CALLDATALOAD CALLDATASIZE CALLER ...   \n",
      "4     ADD ADDRESS AND BALANCE CALL CALLDATACOPY CALL...   \n",
      "...                                                 ...   \n",
      "3781  ADD ADDRESS AND BALANCE BLOCKHASH CALL CALLDAT...   \n",
      "3782  ADD AND CALLDATALOAD CALLER DIV DUP1 DUP2 DUP3...   \n",
      "3783  ADD ADDRESS AND CALL CALLDATACOPY CALLDATALOAD...   \n",
      "3784  ADD ADDRESS AND BALANCE CALL CALLDATALOAD CALL...   \n",
      "3785  AND CALLDATALOAD CALLER DIV DUP1 DUP2 DUP3 EQ ...   \n",
      "\n",
      "                                         creator  \\\n",
      "0     0xc14c291012878568b95cfe3f0973f6d5a3a69b09   \n",
      "1     0x43f9179a72d88182891502af8e80c32c7365e62b   \n",
      "2     0x288ae6c4fcb11771359f9ee33855043e76c0a8fa   \n",
      "3     0xd229dbda0d510d3937604a0edf254004b495a9f0   \n",
      "4     0x288ae6c4fcb11771359f9ee33855043e76c0a8fa   \n",
      "...                                          ...   \n",
      "3781  0x45ab6108cc41c20f416a98615aa8c349f02a275b   \n",
      "3782  0x87c5b5874a18b4306df8a752a6c8cc3e82dafc19   \n",
      "3783  0x8bae48f227d978d084b009b775222baaf61ed9fe   \n",
      "3784  0x20c24a9a23076b6b89c6207cb14053458e5c199c   \n",
      "3785  0x0047a8033cc6d6ca2ed5044674fd421f44884de8   \n",
      "\n",
      "                                       padded_sequences  \n",
      "0     [1, 3, 4, 5, 8, 11, 12, 13, 14, 23, 24, 32, 33...  \n",
      "1     [1, 3, 4, 5, 8, 11, 12, 13, 14, 16, 23, 24, 32...  \n",
      "2     [1, 3, 4, 5, 8, 10, 11, 12, 13, 14, 23, 24, 25...  \n",
      "3     [1, 4, 8, 11, 12, 13, 14, 23, 24, 25, 32, 33, ...  \n",
      "4     [1, 3, 4, 5, 8, 10, 11, 12, 13, 14, 23, 24, 25...  \n",
      "...                                                 ...  \n",
      "3781  [1, 3, 4, 5, 6, 8, 11, 12, 13, 14, 18, 23, 24,...  \n",
      "3782  [1, 4, 11, 13, 23, 24, 32, 33, 34, 40, 41, 51,...  \n",
      "3783  [1, 3, 4, 8, 10, 11, 12, 13, 14, 23, 24, 25, 2...  \n",
      "3784  [1, 3, 4, 5, 8, 11, 12, 13, 14, 23, 24, 25, 26...  \n",
      "3785  [4, 11, 13, 23, 24, 32, 33, 40, 41, 49, 51, 52...  \n",
      "\n",
      "[3786 rows x 5 columns]\n",
      "Vocabulary size: 142\n",
      "Max sequence length: 100\n"
     ]
    }
   ],
   "source": [
    "import re\n",
    "import pickle\n",
    "from tensorflow.keras.preprocessing.text import Tokenizer\n",
    "from tensorflow.keras.preprocessing.sequence import pad_sequences\n",
    "\n",
    "def preprocess_opcodes(data, vocab_file):\n",
    "    preprocessed_opcodes = []\n",
    "\n",
    "    # Iterate over each row in the DataFrame\n",
    "    for index, row in data.iterrows():\n",
    "        # Extract opcode strings from the current row\n",
    "        opcodes_row = re.findall(r'\\b[A-Z0-9]+(?=\\s|$)', row['opcode'])\n",
    "        # Remove duplicates, sort opcodes, and concatenate them into a single string\n",
    "        opcodes_sorted_unique = ' '.join(sorted(set(opcodes_row)))\n",
    "        data.at[index, 'opcode'] = opcodes_sorted_unique    \n",
    "        preprocessed_opcodes.append(opcodes_sorted_unique)\n",
    "\n",
    "    # Remove duplicates and sort opcodes from all rows to create vocabulary\n",
    "    opcodes_all_rows = ' '.join(preprocessed_opcodes)\n",
    "    opcodes_unique_sorted = sorted(set(re.findall(r'\\b[A-Z0-9]+(?=\\s|$)', opcodes_all_rows)))\n",
    "    \n",
    "    # Save vocabulary to file\n",
    "    with open(vocab_file, 'wb') as f:\n",
    "        pickle.dump(opcodes_unique_sorted, f)\n",
    "    \n",
    "    # Create a tokenizer\n",
    "    tokenizer = Tokenizer()\n",
    "    \n",
    "    # Fit tokenizer on the vocabulary\n",
    "    tokenizer.fit_on_texts(opcodes_unique_sorted)\n",
    "    \n",
    "    # Convert opcode text into integer sequences for each row separately\n",
    "    opcode_sequences = tokenizer.texts_to_sequences(preprocessed_opcodes)\n",
    "    \n",
    "    # Pad sequences to ensure they have the same length\n",
    "    max_sequence_length = max(len(seq) for seq in opcode_sequences)\n",
    "    padded_sequences = pad_sequences(opcode_sequences, maxlen=max_sequence_length, padding='post')\n",
    "    \n",
    "    # Store padded sequences in the DataFrame\n",
    "    data['padded_sequences'] = padded_sequences.tolist()  # Convert to list to store in DataFrame\n",
    "    \n",
    "    return data, tokenizer, max_sequence_length,padded_sequences\n",
    "\n",
    "# Example usage:\n",
    "vocab_file = 'opcode_vocab.pkl'\n",
    "preprocessed_data, tokenizer, max_sequence_length,padded_sequences = preprocess_opcodes(data, vocab_file)\n",
    "print(\"Preprocessed DataFrame:\")\n",
    "print(preprocessed_data)\n",
    "print(\"Vocabulary size:\", len(tokenizer.word_index))\n",
    "print(\"Max sequence length:\", max_sequence_length)\n"
   ]
  },
  {
   "cell_type": "code",
   "execution_count": 5,
   "id": "b9324f94",
   "metadata": {},
   "outputs": [],
   "source": [
    "import pickle\n",
    "with open('tokenizer.pkl', 'wb') as f:\n",
    "    pickle.dump(tokenizer, f)"
   ]
  },
  {
   "cell_type": "code",
   "execution_count": 4,
   "id": "681a5fcf",
   "metadata": {},
   "outputs": [
    {
     "name": "stdout",
     "output_type": "stream",
     "text": [
      "0       [1, 3, 4, 5, 8, 11, 12, 13, 14, 23, 24, 32, 33...\n",
      "1       [1, 3, 4, 5, 8, 11, 12, 13, 14, 16, 23, 24, 32...\n",
      "2       [1, 3, 4, 5, 8, 10, 11, 12, 13, 14, 23, 24, 25...\n",
      "3       [1, 4, 8, 11, 12, 13, 14, 23, 24, 25, 32, 33, ...\n",
      "4       [1, 3, 4, 5, 8, 10, 11, 12, 13, 14, 23, 24, 25...\n",
      "                              ...                        \n",
      "3781    [1, 3, 4, 5, 6, 8, 11, 12, 13, 14, 18, 23, 24,...\n",
      "3782    [1, 4, 11, 13, 23, 24, 32, 33, 34, 40, 41, 51,...\n",
      "3783    [1, 3, 4, 8, 10, 11, 12, 13, 14, 23, 24, 25, 2...\n",
      "3784    [1, 3, 4, 5, 8, 11, 12, 13, 14, 23, 24, 25, 26...\n",
      "3785    [4, 11, 13, 23, 24, 32, 33, 40, 41, 49, 51, 52...\n",
      "Name: padded_sequences, Length: 3786, dtype: object\n"
     ]
    }
   ],
   "source": [
    "print(data['padded_sequences'])"
   ]
  },
  {
   "cell_type": "code",
   "execution_count": 39,
   "id": "1b626c64",
   "metadata": {},
   "outputs": [],
   "source": [
    "data = data[['padded_sequences', 'label']]"
   ]
  },
  {
   "cell_type": "code",
   "execution_count": 47,
   "id": "9494673b",
   "metadata": {},
   "outputs": [
    {
     "name": "stdout",
     "output_type": "stream",
     "text": [
      "                                       padded_sequences  label\n",
      "0     [1, 3, 4, 5, 8, 11, 12, 13, 14, 23, 24, 32, 33...      1\n",
      "1     [1, 3, 4, 5, 8, 11, 12, 13, 14, 16, 23, 24, 32...      1\n",
      "2     [1, 3, 4, 5, 8, 10, 11, 12, 13, 14, 23, 24, 25...      1\n",
      "3     [1, 4, 8, 11, 12, 13, 14, 23, 24, 25, 32, 33, ...      1\n",
      "4     [1, 3, 4, 5, 8, 10, 11, 12, 13, 14, 23, 24, 25...      1\n",
      "...                                                 ...    ...\n",
      "3781  [1, 3, 4, 5, 6, 8, 11, 12, 13, 14, 18, 23, 24,...      0\n",
      "3782  [1, 4, 11, 13, 23, 24, 32, 33, 34, 40, 41, 51,...      0\n",
      "3783  [1, 3, 4, 8, 10, 11, 12, 13, 14, 23, 24, 25, 2...      0\n",
      "3784  [1, 3, 4, 5, 8, 11, 12, 13, 14, 23, 24, 25, 26...      0\n",
      "3785  [4, 11, 13, 23, 24, 32, 33, 40, 41, 49, 51, 52...      0\n",
      "\n",
      "[3786 rows x 2 columns]\n"
     ]
    }
   ],
   "source": [
    "print(data)"
   ]
  },
  {
   "cell_type": "code",
   "execution_count": 48,
   "id": "242fc0c8",
   "metadata": {},
   "outputs": [
    {
     "ename": "ValueError",
     "evalue": "The target 'y' needs to have more than 1 class. Got 1 class instead",
     "output_type": "error",
     "traceback": [
      "\u001b[1;31m---------------------------------------------------------------------------\u001b[0m",
      "\u001b[1;31mValueError\u001b[0m                                Traceback (most recent call last)",
      "Cell \u001b[1;32mIn[48], line 21\u001b[0m\n\u001b[0;32m     19\u001b[0m num_samples \u001b[38;5;241m=\u001b[39m \u001b[38;5;28mlen\u001b[39m(sample_to_augment)\n\u001b[0;32m     20\u001b[0m \u001b[38;5;66;03m# Generate synthetic samples using ADASYN algorithm\u001b[39;00m\n\u001b[1;32m---> 21\u001b[0m synthetic_samples, synthetic_labels \u001b[38;5;241m=\u001b[39m \u001b[43madasyn\u001b[49m\u001b[38;5;241;43m.\u001b[39;49m\u001b[43mfit_resample\u001b[49m\u001b[43m(\u001b[49m\u001b[43msample_to_augment\u001b[49m\u001b[38;5;241;43m.\u001b[39;49m\u001b[43mreshape\u001b[49m\u001b[43m(\u001b[49m\u001b[38;5;241;43m-\u001b[39;49m\u001b[38;5;241;43m1\u001b[39;49m\u001b[43m,\u001b[49m\u001b[43m \u001b[49m\u001b[38;5;241;43m1\u001b[39;49m\u001b[43m)\u001b[49m\u001b[43m,\u001b[49m\u001b[43m \u001b[49m\u001b[43mnp\u001b[49m\u001b[38;5;241;43m.\u001b[39;49m\u001b[43mones\u001b[49m\u001b[43m(\u001b[49m\u001b[43mnum_samples\u001b[49m\u001b[43m)\u001b[49m\u001b[43m)\u001b[49m\n\u001b[0;32m     22\u001b[0m \u001b[38;5;66;03m# Add augmented samples to the list\u001b[39;00m\n\u001b[0;32m     23\u001b[0m augmented_samples\u001b[38;5;241m.\u001b[39mextend(synthetic_samples)\n",
      "File \u001b[1;32m~\\AppData\\Local\\Programs\\Python\\Python310\\lib\\site-packages\\imblearn\\base.py:208\u001b[0m, in \u001b[0;36mBaseSampler.fit_resample\u001b[1;34m(self, X, y)\u001b[0m\n\u001b[0;32m    187\u001b[0m \u001b[38;5;250m\u001b[39m\u001b[38;5;124;03m\"\"\"Resample the dataset.\u001b[39;00m\n\u001b[0;32m    188\u001b[0m \n\u001b[0;32m    189\u001b[0m \u001b[38;5;124;03mParameters\u001b[39;00m\n\u001b[1;32m   (...)\u001b[0m\n\u001b[0;32m    205\u001b[0m \u001b[38;5;124;03m    The corresponding label of `X_resampled`.\u001b[39;00m\n\u001b[0;32m    206\u001b[0m \u001b[38;5;124;03m\"\"\"\u001b[39;00m\n\u001b[0;32m    207\u001b[0m \u001b[38;5;28mself\u001b[39m\u001b[38;5;241m.\u001b[39m_validate_params()\n\u001b[1;32m--> 208\u001b[0m \u001b[38;5;28;01mreturn\u001b[39;00m \u001b[38;5;28;43msuper\u001b[39;49m\u001b[43m(\u001b[49m\u001b[43m)\u001b[49m\u001b[38;5;241;43m.\u001b[39;49m\u001b[43mfit_resample\u001b[49m\u001b[43m(\u001b[49m\u001b[43mX\u001b[49m\u001b[43m,\u001b[49m\u001b[43m \u001b[49m\u001b[43my\u001b[49m\u001b[43m)\u001b[49m\n",
      "File \u001b[1;32m~\\AppData\\Local\\Programs\\Python\\Python310\\lib\\site-packages\\imblearn\\base.py:108\u001b[0m, in \u001b[0;36mSamplerMixin.fit_resample\u001b[1;34m(self, X, y)\u001b[0m\n\u001b[0;32m    105\u001b[0m arrays_transformer \u001b[38;5;241m=\u001b[39m ArraysTransformer(X, y)\n\u001b[0;32m    106\u001b[0m X, y, binarize_y \u001b[38;5;241m=\u001b[39m \u001b[38;5;28mself\u001b[39m\u001b[38;5;241m.\u001b[39m_check_X_y(X, y)\n\u001b[1;32m--> 108\u001b[0m \u001b[38;5;28mself\u001b[39m\u001b[38;5;241m.\u001b[39msampling_strategy_ \u001b[38;5;241m=\u001b[39m \u001b[43mcheck_sampling_strategy\u001b[49m\u001b[43m(\u001b[49m\n\u001b[0;32m    109\u001b[0m \u001b[43m    \u001b[49m\u001b[38;5;28;43mself\u001b[39;49m\u001b[38;5;241;43m.\u001b[39;49m\u001b[43msampling_strategy\u001b[49m\u001b[43m,\u001b[49m\u001b[43m \u001b[49m\u001b[43my\u001b[49m\u001b[43m,\u001b[49m\u001b[43m \u001b[49m\u001b[38;5;28;43mself\u001b[39;49m\u001b[38;5;241;43m.\u001b[39;49m\u001b[43m_sampling_type\u001b[49m\n\u001b[0;32m    110\u001b[0m \u001b[43m\u001b[49m\u001b[43m)\u001b[49m\n\u001b[0;32m    112\u001b[0m output \u001b[38;5;241m=\u001b[39m \u001b[38;5;28mself\u001b[39m\u001b[38;5;241m.\u001b[39m_fit_resample(X, y)\n\u001b[0;32m    114\u001b[0m y_ \u001b[38;5;241m=\u001b[39m (\n\u001b[0;32m    115\u001b[0m     label_binarize(output[\u001b[38;5;241m1\u001b[39m], classes\u001b[38;5;241m=\u001b[39mnp\u001b[38;5;241m.\u001b[39munique(y)) \u001b[38;5;28;01mif\u001b[39;00m binarize_y \u001b[38;5;28;01melse\u001b[39;00m output[\u001b[38;5;241m1\u001b[39m]\n\u001b[0;32m    116\u001b[0m )\n",
      "File \u001b[1;32m~\\AppData\\Local\\Programs\\Python\\Python310\\lib\\site-packages\\imblearn\\utils\\_validation.py:537\u001b[0m, in \u001b[0;36mcheck_sampling_strategy\u001b[1;34m(sampling_strategy, y, sampling_type, **kwargs)\u001b[0m\n\u001b[0;32m    531\u001b[0m     \u001b[38;5;28;01mraise\u001b[39;00m \u001b[38;5;167;01mValueError\u001b[39;00m(\n\u001b[0;32m    532\u001b[0m         \u001b[38;5;124mf\u001b[39m\u001b[38;5;124m\"\u001b[39m\u001b[38;5;124m'\u001b[39m\u001b[38;5;124msampling_type\u001b[39m\u001b[38;5;124m'\u001b[39m\u001b[38;5;124m should be one of \u001b[39m\u001b[38;5;132;01m{\u001b[39;00mSAMPLING_KIND\u001b[38;5;132;01m}\u001b[39;00m\u001b[38;5;124m. \u001b[39m\u001b[38;5;124m\"\u001b[39m\n\u001b[0;32m    533\u001b[0m         \u001b[38;5;124mf\u001b[39m\u001b[38;5;124m\"\u001b[39m\u001b[38;5;124mGot \u001b[39m\u001b[38;5;124m'\u001b[39m\u001b[38;5;132;01m{\u001b[39;00msampling_type\u001b[38;5;132;01m}\u001b[39;00m\u001b[38;5;124m instead.\u001b[39m\u001b[38;5;124m\"\u001b[39m\n\u001b[0;32m    534\u001b[0m     )\n\u001b[0;32m    536\u001b[0m \u001b[38;5;28;01mif\u001b[39;00m np\u001b[38;5;241m.\u001b[39munique(y)\u001b[38;5;241m.\u001b[39msize \u001b[38;5;241m<\u001b[39m\u001b[38;5;241m=\u001b[39m \u001b[38;5;241m1\u001b[39m:\n\u001b[1;32m--> 537\u001b[0m     \u001b[38;5;28;01mraise\u001b[39;00m \u001b[38;5;167;01mValueError\u001b[39;00m(\n\u001b[0;32m    538\u001b[0m         \u001b[38;5;124mf\u001b[39m\u001b[38;5;124m\"\u001b[39m\u001b[38;5;124mThe target \u001b[39m\u001b[38;5;124m'\u001b[39m\u001b[38;5;124my\u001b[39m\u001b[38;5;124m'\u001b[39m\u001b[38;5;124m needs to have more than 1 class. \u001b[39m\u001b[38;5;124m\"\u001b[39m\n\u001b[0;32m    539\u001b[0m         \u001b[38;5;124mf\u001b[39m\u001b[38;5;124m\"\u001b[39m\u001b[38;5;124mGot \u001b[39m\u001b[38;5;132;01m{\u001b[39;00mnp\u001b[38;5;241m.\u001b[39munique(y)\u001b[38;5;241m.\u001b[39msize\u001b[38;5;132;01m}\u001b[39;00m\u001b[38;5;124m class instead\u001b[39m\u001b[38;5;124m\"\u001b[39m\n\u001b[0;32m    540\u001b[0m     )\n\u001b[0;32m    542\u001b[0m \u001b[38;5;28;01mif\u001b[39;00m sampling_type \u001b[38;5;129;01min\u001b[39;00m (\u001b[38;5;124m\"\u001b[39m\u001b[38;5;124mensemble\u001b[39m\u001b[38;5;124m\"\u001b[39m, \u001b[38;5;124m\"\u001b[39m\u001b[38;5;124mbypass\u001b[39m\u001b[38;5;124m\"\u001b[39m):\n\u001b[0;32m    543\u001b[0m     \u001b[38;5;28;01mreturn\u001b[39;00m sampling_strategy\n",
      "\u001b[1;31mValueError\u001b[0m: The target 'y' needs to have more than 1 class. Got 1 class instead"
     ]
    }
   ],
   "source": [
    "import numpy as np\n",
    "from imblearn.over_sampling import ADASYN\n",
    "import random\n",
    "\n",
    "# Identify the minority class (contracts with Ponzi vulnerabilities) and determine the number of samples to augment\n",
    "minority_class_indices = np.where(data['label'] == 1)[0]\n",
    "num_samples_to_augment = 1300\n",
    "\n",
    "# Randomly select minority class samples for augmentation\n",
    "samples_to_augment_indices = random.sample(list(minority_class_indices), min(num_samples_to_augment, len(minority_class_indices)))\n",
    "\n",
    "# Initialize lists to store augmented samples\n",
    "augmented_samples = []\n",
    "\n",
    "# Implement modified ADASYN algorithm\n",
    "adasyn = ADASYN(random_state=42)  # Initialize ADASYN object\n",
    "for index in samples_to_augment_indices:\n",
    "    sample_to_augment = np.array(data.iloc[index]['padded_sequences'], dtype=int)  # Convert list to numerical array\n",
    "    num_samples = len(sample_to_augment)\n",
    "    # Generate synthetic samples using ADASYN algorithm\n",
    "    synthetic_samples, synthetic_labels = adasyn.fit_resample(sample_to_augment.reshape(-1, 1), np.ones(num_samples))\n",
    "    # Add augmented samples to the list\n",
    "    augmented_samples.extend(synthetic_samples)\n",
    "\n",
    "# Convert augmented samples into an array to create a new dataset\n",
    "new_dataset = np.array(augmented_samples)\n",
    "\n",
    "# Add the new dataset to your original dataset or use it for training directly\n"
   ]
  },
  {
   "cell_type": "code",
   "execution_count": 13,
   "id": "611d6d0b",
   "metadata": {},
   "outputs": [],
   "source": [
    "from sklearn.model_selection import train_test_split\n",
    "import numpy as np\n",
    "\n",
    "# Split the data into training and testing sets with stratified sampling for the initial split\n",
    "X_train, X_test, y_train, y_test = train_test_split(padded_sequences, data['label'], test_size=0.2, random_state=42, stratify=data['label'])\n",
    "\n",
    "# Further split the training set into training and validation sets with stratified sampling\n",
    "X_train, X_val, y_train, y_val = train_test_split(X_train, y_train, test_size=0.1, random_state=42, stratify=y_train)\n",
    "\n",
    "X_train = np.array(X_train)\n",
    "X_val = np.array(X_val)\n",
    "X_test = np.array(X_test)\n"
   ]
  },
  {
   "cell_type": "code",
   "execution_count": 50,
   "id": "b815ac06",
   "metadata": {},
   "outputs": [],
   "source": [
    "from keras.models import Sequential\n",
    "from keras.layers import Embedding, Conv1D, Dense, LSTM\n",
    "\n",
    "def test_model():\n",
    "    model = Sequential([\n",
    "        Embedding(input_dim=len(tokenizer.word_index) + 1, output_dim=32, input_length=max_sequence_length),\n",
    "        Conv1D(filters=32, kernel_size=3, activation='relu'),\n",
    "        Conv1D(filters=64, kernel_size=3, activation='relu'),\n",
    "        Conv1D(filters=128, kernel_size=3, activation='relu'),\n",
    "        LSTM(128),\n",
    "        Dense(1, activation='sigmoid')\n",
    "    ])\n",
    "    model.compile(optimizer='adam', loss='binary_crossentropy', metrics=['accuracy'])\n",
    "    return model\n",
    "\n",
    "def create_conv1d_lstm_model():\n",
    "    model = Sequential([\n",
    "        Embedding(input_dim=len(tokenizer.word_index) + 1, output_dim=32, input_length=max_sequence_length),\n",
    "        Conv1D(filters=32, kernel_size=3),\n",
    "        Conv1D(filters=64, kernel_size=3),\n",
    "        LSTM(units=32),\n",
    "        Dense(units=1, activation='sigmoid')\n",
    "    ])\n",
    "    model.compile(optimizer='adam', loss='binary_crossentropy', metrics=['accuracy'])\n",
    "    return model\n"
   ]
  },
  {
   "cell_type": "code",
   "execution_count": 51,
   "id": "f3274b03",
   "metadata": {},
   "outputs": [
    {
     "name": "stdout",
     "output_type": "stream",
     "text": [
      "Epoch 1/20\n",
      "43/43 [==============================] - 5s 48ms/step - loss: 0.2810 - accuracy: 0.9472 - val_loss: 0.2070 - val_accuracy: 0.9472\n",
      "Epoch 2/20\n",
      "43/43 [==============================] - 1s 34ms/step - loss: 0.2070 - accuracy: 0.9472 - val_loss: 0.2070 - val_accuracy: 0.9472\n",
      "Epoch 3/20\n",
      "43/43 [==============================] - 2s 37ms/step - loss: 0.2073 - accuracy: 0.9472 - val_loss: 0.2097 - val_accuracy: 0.9472\n",
      "Epoch 4/20\n",
      "43/43 [==============================] - 2s 35ms/step - loss: 0.2086 - accuracy: 0.9472 - val_loss: 0.2070 - val_accuracy: 0.9472\n",
      "Epoch 5/20\n",
      "43/43 [==============================] - 1s 34ms/step - loss: 0.2070 - accuracy: 0.9472 - val_loss: 0.2067 - val_accuracy: 0.9472\n",
      "Epoch 6/20\n",
      "43/43 [==============================] - 2s 37ms/step - loss: 0.2071 - accuracy: 0.9472 - val_loss: 0.2067 - val_accuracy: 0.9472\n",
      "Epoch 7/20\n",
      "43/43 [==============================] - 2s 36ms/step - loss: 0.2071 - accuracy: 0.9472 - val_loss: 0.2068 - val_accuracy: 0.9472\n",
      "Epoch 8/20\n",
      "43/43 [==============================] - 2s 37ms/step - loss: 0.2074 - accuracy: 0.9472 - val_loss: 0.2069 - val_accuracy: 0.9472\n",
      "Epoch 9/20\n",
      "43/43 [==============================] - 2s 36ms/step - loss: 0.2078 - accuracy: 0.9472 - val_loss: 0.2067 - val_accuracy: 0.9472\n",
      "Epoch 10/20\n",
      "43/43 [==============================] - 2s 36ms/step - loss: 0.2073 - accuracy: 0.9472 - val_loss: 0.2067 - val_accuracy: 0.9472\n",
      "Epoch 11/20\n",
      "43/43 [==============================] - 2s 38ms/step - loss: 0.2072 - accuracy: 0.9472 - val_loss: 0.2073 - val_accuracy: 0.9472\n",
      "Epoch 12/20\n",
      "43/43 [==============================] - 1s 35ms/step - loss: 0.2071 - accuracy: 0.9472 - val_loss: 0.2068 - val_accuracy: 0.9472\n",
      "Epoch 13/20\n",
      "43/43 [==============================] - 2s 39ms/step - loss: 0.2075 - accuracy: 0.9472 - val_loss: 0.2068 - val_accuracy: 0.9472\n",
      "Epoch 14/20\n",
      "43/43 [==============================] - 2s 37ms/step - loss: 0.2074 - accuracy: 0.9472 - val_loss: 0.2067 - val_accuracy: 0.9472\n",
      "Epoch 15/20\n",
      "43/43 [==============================] - 2s 39ms/step - loss: 0.2071 - accuracy: 0.9472 - val_loss: 0.2071 - val_accuracy: 0.9472\n",
      "Epoch 16/20\n",
      "43/43 [==============================] - 2s 39ms/step - loss: 0.2071 - accuracy: 0.9472 - val_loss: 0.2067 - val_accuracy: 0.9472\n",
      "Epoch 17/20\n",
      "43/43 [==============================] - 2s 39ms/step - loss: 0.2083 - accuracy: 0.9472 - val_loss: 0.2075 - val_accuracy: 0.9472\n",
      "Epoch 18/20\n",
      "43/43 [==============================] - 2s 39ms/step - loss: 0.2071 - accuracy: 0.9472 - val_loss: 0.2068 - val_accuracy: 0.9472\n",
      "Epoch 19/20\n",
      "43/43 [==============================] - 2s 40ms/step - loss: 0.2072 - accuracy: 0.9472 - val_loss: 0.2067 - val_accuracy: 0.9472\n",
      "Epoch 20/20\n",
      "43/43 [==============================] - 2s 41ms/step - loss: 0.2071 - accuracy: 0.9472 - val_loss: 0.2067 - val_accuracy: 0.9472\n"
     ]
    },
    {
     "data": {
      "text/plain": [
       "<keras.callbacks.History at 0x1e503730f10>"
      ]
     },
     "execution_count": 51,
     "metadata": {},
     "output_type": "execute_result"
    }
   ],
   "source": [
    "cnn_model=create_conv1d_lstm_model()\n",
    "cnn_model.fit(X_train, y_train, epochs=20, batch_size=64, validation_data=(X_val, y_val))"
   ]
  },
  {
   "cell_type": "code",
   "execution_count": 17,
   "id": "70ced0e7",
   "metadata": {},
   "outputs": [],
   "source": [
    "import numpy as np\n",
    "import matplotlib.pyplot as plt\n",
    "import seaborn as sns\n",
    "from sklearn.metrics import confusion_matrix, accuracy_score, precision_score, recall_score, f1_score\n",
    "\n",
    "def plot_confusion_matrix(model, model_name, X_test, y_test):\n",
    "    y_pred = model.predict(X_test)\n",
    "    y_pred_classes = (y_pred > 0.5).astype(\"int32\")\n",
    "\n",
    "    conf_matrix = confusion_matrix(y_test, y_pred_classes)\n",
    "\n",
    "    accuracy = accuracy_score(y_test, y_pred_classes)\n",
    "    precision = precision_score(y_test, y_pred_classes)\n",
    "    recall = recall_score(y_test, y_pred_classes)\n",
    "    f1 = f1_score(y_test, y_pred_classes)\n",
    "\n",
    "    plt.figure(figsize=(8, 6))\n",
    "    sns.heatmap(conf_matrix, annot=True, fmt=\"d\", cmap=\"Blues\")\n",
    "    plt.title(f\"Confusion Matrix - {model_name}\\nAccuracy: {accuracy:.2f}, Precision: {precision:.2f}, Recall: {recall:.2f}, F1-score: {f1:.2f}\")\n",
    "    plt.xlabel(\"Predicted Label\")\n",
    "    plt.ylabel(\"True Label\")\n",
    "    plt.show()\n"
   ]
  },
  {
   "cell_type": "code",
   "execution_count": 18,
   "id": "4ad763e8",
   "metadata": {},
   "outputs": [
    {
     "name": "stdout",
     "output_type": "stream",
     "text": [
      "24/24 [==============================] - 1s 22ms/step\n"
     ]
    },
    {
     "name": "stderr",
     "output_type": "stream",
     "text": [
      "C:\\Users\\91827\\AppData\\Local\\Programs\\Python\\Python310\\lib\\site-packages\\sklearn\\metrics\\_classification.py:1344: UndefinedMetricWarning: Precision is ill-defined and being set to 0.0 due to no predicted samples. Use `zero_division` parameter to control this behavior.\n",
      "  _warn_prf(average, modifier, msg_start, len(result))\n"
     ]
    },
    {
     "data": {
      "image/png": "[encoded data removed]",
      "text/plain": [
       "<Figure size 800x600 with 2 Axes>"
      ]
     },
     "metadata": {},
     "output_type": "display_data"
    }
   ],
   "source": [
    "plot_confusion_matrix(cnn_model, \"CNN\", X_test, y_test)"
   ]
  },
  {
   "cell_type": "code",
   "execution_count": 21,
   "id": "69cad347",
   "metadata": {},
   "outputs": [],
   "source": [
    "from tensorflow.keras.layers import Conv1D, MaxPooling1D, LSTM, Dense, Embedding, Dropout, Flatten\n",
    "\n",
    "def cnn_lstm_Model():\n",
    "    model = Sequential([\n",
    "        Embedding(input_dim=len(tokenizer.word_index) + 1, output_dim=64, input_length=max_sequence_length),\n",
    "        Conv1D(64, 5, activation='relu'),\n",
    "        MaxPooling1D(pool_size=4),\n",
    "        LSTM(128),\n",
    "        Dense(1, activation='sigmoid')\n",
    "    ])\n",
    "    model.compile(optimizer='adam', loss='binary_crossentropy', metrics=['accuracy'])\n",
    "    return model\n"
   ]
  },
  {
   "cell_type": "code",
   "execution_count": 22,
   "id": "49440cdd",
   "metadata": {},
   "outputs": [
    {
     "name": "stdout",
     "output_type": "stream",
     "text": [
      "Epoch 1/10\n",
      "43/43 [==============================] - 4s 43ms/step - loss: 0.2811 - accuracy: 0.9273 - val_loss: 0.2067 - val_accuracy: 0.9472\n",
      "Epoch 2/10\n",
      "43/43 [==============================] - 1s 32ms/step - loss: 0.2078 - accuracy: 0.9472 - val_loss: 0.2053 - val_accuracy: 0.9472\n",
      "Epoch 3/10\n",
      "43/43 [==============================] - 1s 35ms/step - loss: 0.1943 - accuracy: 0.9472 - val_loss: 0.1464 - val_accuracy: 0.9472\n",
      "Epoch 4/10\n",
      "43/43 [==============================] - 1s 34ms/step - loss: 0.1419 - accuracy: 0.9615 - val_loss: 0.0907 - val_accuracy: 0.9736\n",
      "Epoch 5/10\n",
      "43/43 [==============================] - 1s 34ms/step - loss: 0.1186 - accuracy: 0.9662 - val_loss: 0.0916 - val_accuracy: 0.9802\n",
      "Epoch 6/10\n",
      "43/43 [==============================] - 1s 33ms/step - loss: 0.1103 - accuracy: 0.9699 - val_loss: 0.0895 - val_accuracy: 0.9835\n",
      "Epoch 7/10\n",
      "43/43 [==============================] - 1s 35ms/step - loss: 0.1059 - accuracy: 0.9706 - val_loss: 0.0910 - val_accuracy: 0.9670\n",
      "Epoch 8/10\n",
      "43/43 [==============================] - 2s 35ms/step - loss: 0.0881 - accuracy: 0.9780 - val_loss: 0.0566 - val_accuracy: 0.9868\n",
      "Epoch 9/10\n",
      "43/43 [==============================] - 1s 34ms/step - loss: 0.0913 - accuracy: 0.9747 - val_loss: 0.0767 - val_accuracy: 0.9736\n",
      "Epoch 10/10\n",
      "43/43 [==============================] - 2s 35ms/step - loss: 0.0892 - accuracy: 0.9769 - val_loss: 0.0689 - val_accuracy: 0.9802\n"
     ]
    },
    {
     "data": {
      "text/plain": [
       "<keras.callbacks.History at 0x1e575c403a0>"
      ]
     },
     "execution_count": 22,
     "metadata": {},
     "output_type": "execute_result"
    }
   ],
   "source": [
    "cnn_lstm_model = cnn_lstm_Model()\n",
    "cnn_lstm_model.fit(X_train, y_train, epochs=10, batch_size=64, validation_data=(X_val, y_val))"
   ]
  },
  {
   "cell_type": "code",
   "execution_count": 23,
   "id": "5ccfccbd",
   "metadata": {},
   "outputs": [
    {
     "name": "stdout",
     "output_type": "stream",
     "text": [
      "24/24 [==============================] - 0s 6ms/step\n"
     ]
    },
    {
     "data": {
      "image/png": "[encoded data removed]",
      "text/plain": [
       "<Figure size 800x600 with 2 Axes>"
      ]
     },
     "metadata": {},
     "output_type": "display_data"
    }
   ],
   "source": [
    "plot_confusion_matrix(cnn_lstm_model, \"CNN\", X_test, y_test)"
   ]
  },
  {
   "cell_type": "code",
   "execution_count": null,
   "id": "be2f858b",
   "metadata": {},
   "outputs": [],
   "source": []
  }
 ],
 "metadata": {
  "kernelspec": {
   "display_name": "Python 3 (ipykernel)",
   "language": "python",
   "name": "python3"
  },
  "language_info": {
   "codemirror_mode": {
    "name": "ipython",
    "version": 3
   },
   "file_extension": ".py",
   "mimetype": "text/x-python",
   "name": "python",
   "nbconvert_exporter": "python",
   "pygments_lexer": "ipython3",
   "version": "3.10.1"
  }
 },
 "nbformat": 4,
 "nbformat_minor": 5
}
