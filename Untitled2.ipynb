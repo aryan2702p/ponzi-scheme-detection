{
 "cells": [
  {
   "cell_type": "code",
   "execution_count": 1,
   "id": "163da352-29bc-486e-8f4b-4ba47bd5a0f4",
   "metadata": {},
   "outputs": [],
   "source": [
    "import pandas as pd\n",
    "data = pd.read_csv('Ponzi_contracts.csv')"
   ]
  },
  {
   "cell_type": "code",
   "execution_count": 4,
   "id": "26d59922-f47c-455c-823b-da0eaf9112cf",
   "metadata": {},
   "outputs": [
    {
     "name": "stdout",
     "output_type": "stream",
     "text": [
      "Preprocessed DataFrame:\n",
      "                                         address  label  \\\n",
      "0     0x582b2489710a4189ad558b6958641789587fcc27      1   \n",
      "1     0xeb4245c88c660ae4ee23c76954e5490ccd7bbd82      1   \n",
      "2     0xd92d62ce8504e5c61aa17d9a9b13c65dbd77c268      1   \n",
      "3     0xc352add7ad8cac8baa839d8c88e7e9d7df9a219b      1   \n",
      "4     0x3f4dd010fbbc9a9b6d95f1f53837d7e9f3befac8      1   \n",
      "...                                          ...    ...   \n",
      "3781  0x2ef76694fbfd691141d83f921a5ba710525de9b0      0   \n",
      "3782  0x1d11e5eae3112dbd44f99266872ff1d07c77dce8      0   \n",
      "3783  0xf05782932dbabde1d657a5311fc3b78db81c60e7      0   \n",
      "3784  0xd79b4c6791784184e2755b2fc1659eaab0f80456      0   \n",
      "3785  0xb0f94af0cfccc76113bb5ba2c2d89d56221b18a5      0   \n",
      "\n",
      "                                                 opcode  \\\n",
      "0     ADD ADDRESS AND BALANCE CALL CALLDATALOAD CALL...   \n",
      "1     ADD ADDRESS AND BALANCE CALL CALLDATALOAD CALL...   \n",
      "2     ADD ADDRESS AND BALANCE CALL CALLDATACOPY CALL...   \n",
      "3     ADD AND CALL CALLDATALOAD CALLDATASIZE CALLER ...   \n",
      "4     ADD ADDRESS AND BALANCE CALL CALLDATACOPY CALL...   \n",
      "...                                                 ...   \n",
      "3781  ADD ADDRESS AND BALANCE BLOCKHASH CALL CALLDAT...   \n",
      "3782  ADD AND CALLDATALOAD CALLER DIV DUP1 DUP2 DUP3...   \n",
      "3783  ADD ADDRESS AND CALL CALLDATACOPY CALLDATALOAD...   \n",
      "3784  ADD ADDRESS AND BALANCE CALL CALLDATALOAD CALL...   \n",
      "3785  AND CALLDATALOAD CALLER DIV DUP1 DUP2 DUP3 EQ ...   \n",
      "\n",
      "                                         creator  \\\n",
      "0     0xc14c291012878568b95cfe3f0973f6d5a3a69b09   \n",
      "1     0x43f9179a72d88182891502af8e80c32c7365e62b   \n",
      "2     0x288ae6c4fcb11771359f9ee33855043e76c0a8fa   \n",
      "3     0xd229dbda0d510d3937604a0edf254004b495a9f0   \n",
      "4     0x288ae6c4fcb11771359f9ee33855043e76c0a8fa   \n",
      "...                                          ...   \n",
      "3781  0x45ab6108cc41c20f416a98615aa8c349f02a275b   \n",
      "3782  0x87c5b5874a18b4306df8a752a6c8cc3e82dafc19   \n",
      "3783  0x8bae48f227d978d084b009b775222baaf61ed9fe   \n",
      "3784  0x20c24a9a23076b6b89c6207cb14053458e5c199c   \n",
      "3785  0x0047a8033cc6d6ca2ed5044674fd421f44884de8   \n",
      "\n",
      "                                       padded_sequences  \n",
      "0     [1, 3, 4, 5, 8, 11, 12, 13, 14, 23, 24, 32, 33...  \n",
      "1     [1, 3, 4, 5, 8, 11, 12, 13, 14, 16, 23, 24, 32...  \n",
      "2     [1, 3, 4, 5, 8, 10, 11, 12, 13, 14, 23, 24, 25...  \n",
      "3     [1, 4, 8, 11, 12, 13, 14, 23, 24, 25, 32, 33, ...  \n",
      "4     [1, 3, 4, 5, 8, 10, 11, 12, 13, 14, 23, 24, 25...  \n",
      "...                                                 ...  \n",
      "3781  [1, 3, 4, 5, 6, 8, 11, 12, 13, 14, 18, 23, 24,...  \n",
      "3782  [1, 4, 11, 13, 23, 24, 32, 33, 34, 40, 41, 51,...  \n",
      "3783  [1, 3, 4, 8, 10, 11, 12, 13, 14, 23, 24, 25, 2...  \n",
      "3784  [1, 3, 4, 5, 8, 11, 12, 13, 14, 23, 24, 25, 26...  \n",
      "3785  [4, 11, 13, 23, 24, 32, 33, 40, 41, 49, 51, 52...  \n",
      "\n",
      "[3786 rows x 5 columns]\n",
      "Vocabulary size: 142\n",
      "Max sequence length: 100\n"
     ]
    }
   ],
   "source": [
    "import re\n",
    "import pickle\n",
    "from tensorflow.keras.preprocessing.text import Tokenizer\n",
    "from tensorflow.keras.preprocessing.sequence import pad_sequences\n",
    "\n",
    "def preprocess_opcodes(data, vocab_file):\n",
    "    preprocessed_opcodes = []\n",
    "\n",
    "    # Iterate over each row in the DataFrame\n",
    "    for index, row in data.iterrows():\n",
    "        # Extract opcode strings from the current row\n",
    "        opcodes_row = re.findall(r'\\b[A-Z0-9]+(?=\\s|$)', row['opcode'])\n",
    "        # Remove duplicates, sort opcodes, and concatenate them into a single string\n",
    "        opcodes_sorted_unique = ' '.join(sorted(set(opcodes_row)))\n",
    "        data.at[index, 'opcode'] = opcodes_sorted_unique    \n",
    "        preprocessed_opcodes.append(opcodes_sorted_unique)\n",
    "\n",
    "    # Remove duplicates and sort opcodes from all rows to create vocabulary\n",
    "    opcodes_all_rows = ' '.join(preprocessed_opcodes)\n",
    "    opcodes_unique_sorted = sorted(set(re.findall(r'\\b[A-Z0-9]+(?=\\s|$)', opcodes_all_rows)))\n",
    "    \n",
    "    # Save vocabulary to file\n",
    "    with open(vocab_file, 'wb') as f:\n",
    "        pickle.dump(opcodes_unique_sorted, f)\n",
    "    \n",
    "    # Create a tokenizer\n",
    "    tokenizer = Tokenizer()\n",
    "    \n",
    "    # Fit tokenizer on the vocabulary\n",
    "    tokenizer.fit_on_texts(opcodes_unique_sorted)\n",
    "    \n",
    "    # Convert opcode text into integer sequences for each row separately\n",
    "    opcode_sequences = tokenizer.texts_to_sequences(preprocessed_opcodes)\n",
    "    \n",
    "    # Pad sequences to ensure they have the same length\n",
    "    max_sequence_length = max(len(seq) for seq in opcode_sequences)\n",
    "    padded_sequences = pad_sequences(opcode_sequences, maxlen=max_sequence_length, padding='post')\n",
    "    \n",
    "    # Store padded sequences in the DataFrame\n",
    "    data['padded_sequences'] = padded_sequences.tolist()  # Convert to list to store in DataFrame\n",
    "    \n",
    "    return data, tokenizer, max_sequence_length,padded_sequences\n",
    "\n",
    "# Example usage:\n",
    "vocab_file = 'opcode_vocab.pkl'\n",
    "preprocessed_data, tokenizer, max_sequence_length,padded_sequences = preprocess_opcodes(data, vocab_file)\n",
    "print(\"Preprocessed DataFrame:\")\n",
    "print(preprocessed_data)\n",
    "print(\"Vocabulary size:\", len(tokenizer.word_index))\n",
    "print(\"Max sequence length:\", max_sequence_length)\n"
   ]
  },
  {
   "cell_type": "code",
   "execution_count": 8,
   "id": "8d629644",
   "metadata": {},
   "outputs": [],
   "source": [
    "processed_data=data[['padded_sequences','label']]"
   ]
  },
  {
   "cell_type": "code",
   "execution_count": 9,
   "id": "96024fef",
   "metadata": {},
   "outputs": [],
   "source": [
    "processed_data.to_csv('processed_data.csv', index=False)"
   ]
  },
  {
   "cell_type": "code",
   "execution_count": 11,
   "id": "6d105532",
   "metadata": {},
   "outputs": [],
   "source": [
    "from sklearn.model_selection import train_test_split\n",
    "import numpy as np\n",
    "\n",
    "# Split the data into training and testing sets with stratified sampling for the initial split\n",
    "X_train, X_test, y_train, y_test = train_test_split(processed_data['padded_sequences'], processed_data['label'], test_size=0.2, random_state=42, stratify=data['label'])\n",
    "\n",
    "# Further split the training set into training and validation sets with stratified sampling\n",
    "X_train, X_val, y_train, y_val = train_test_split(X_train, y_train, test_size=0.1, random_state=42, stratify=y_train)\n",
    "\n",
    "X_train = np.array(X_train)\n",
    "X_val = np.array(X_val)\n",
    "X_test = np.array(X_test)"
   ]
  },
  {
   "cell_type": "code",
   "execution_count": 12,
   "id": "db5fb71d",
   "metadata": {},
   "outputs": [],
   "source": [
    "from tensorflow.keras.models import Sequential\n",
    "from tensorflow.keras.layers import Conv1D, MaxPooling1D, LSTM, Dense, Embedding, Dropout, Flatten\n",
    "from sklearn.model_selection import train_test_split\n",
    "import numpy as np\n",
    "\n",
    "def cnn_lstm_Model():\n",
    "    model = Sequential([\n",
    "        Embedding(input_dim=len(tokenizer.word_index) + 1, output_dim=64, input_length=max_sequence_length),\n",
    "        Conv1D(64, 5, activation='relu'),\n",
    "        MaxPooling1D(pool_size=4),\n",
    "        LSTM(128),\n",
    "        Dense(1, activation='sigmoid')\n",
    "    ])\n",
    "    model.compile(optimizer='adam', loss='binary_crossentropy', metrics=['accuracy'])\n",
    "    return model\n"
   ]
  },
  {
   "cell_type": "code",
   "execution_count": 13,
   "id": "4bf1c866",
   "metadata": {},
   "outputs": [],
   "source": [
    "cnn=cnn_lstm_Model()"
   ]
  },
  {
   "cell_type": "code",
   "execution_count": 16,
   "id": "dac04d45",
   "metadata": {},
   "outputs": [
    {
     "name": "stdout",
     "output_type": "stream",
     "text": [
      "X_train shape: (2725,)\n",
      "y_train shape: (2725,)\n",
      "X_val shape: (303,)\n",
      "y_val shape: (303,)\n"
     ]
    }
   ],
   "source": [
    "print(\"X_train shape:\", X_train.shape)\n",
    "print(\"y_train shape:\", y_train.shape)\n",
    "print(\"X_val shape:\", X_val.shape)\n",
    "print(\"y_val shape:\", y_val.shape)\n"
   ]
  },
  {
   "cell_type": "code",
   "execution_count": 22,
   "id": "5bcaa888",
   "metadata": {},
   "outputs": [
    {
     "name": "stdout",
     "output_type": "stream",
     "text": [
      "X_train shape: (2725, 100)\n",
      "X_val shape: (303, 100)\n"
     ]
    }
   ],
   "source": [
    "from tensorflow.keras.preprocessing.sequence import pad_sequences\n",
    "\n",
    "# Pad sequences to a fixed length (max_sequence_length)\n",
    "X_train = pad_sequences(X_train, maxlen=max_sequence_length)\n",
    "X_val = pad_sequences(X_val, maxlen=max_sequence_length)\n",
    "X_test= pad_sequences(X_test, maxlen=max_sequence_length)\n",
    "# Now, the shapes should be consistent\n",
    "print(\"X_train shape:\", X_train.shape)\n",
    "print(\"X_val shape:\", X_val.shape)\n"
   ]
  },
  {
   "cell_type": "code",
   "execution_count": 18,
   "id": "287808f4",
   "metadata": {},
   "outputs": [
    {
     "name": "stdout",
     "output_type": "stream",
     "text": [
      "Epoch 1/15\n",
      "43/43 [==============================] - 5s 47ms/step - loss: 0.2667 - accuracy: 0.9472 - val_loss: 0.2044 - val_accuracy: 0.9472\n",
      "Epoch 2/15\n",
      "43/43 [==============================] - 2s 35ms/step - loss: 0.2003 - accuracy: 0.9472 - val_loss: 0.1761 - val_accuracy: 0.9472\n",
      "Epoch 3/15\n",
      "43/43 [==============================] - 1s 34ms/step - loss: 0.1342 - accuracy: 0.9596 - val_loss: 0.0916 - val_accuracy: 0.9736\n",
      "Epoch 4/15\n",
      "43/43 [==============================] - 2s 37ms/step - loss: 0.1132 - accuracy: 0.9684 - val_loss: 0.0802 - val_accuracy: 0.9835\n",
      "Epoch 5/15\n",
      "43/43 [==============================] - 2s 38ms/step - loss: 0.0965 - accuracy: 0.9739 - val_loss: 0.0704 - val_accuracy: 0.9868\n",
      "Epoch 6/15\n",
      "43/43 [==============================] - 2s 37ms/step - loss: 0.0853 - accuracy: 0.9761 - val_loss: 0.0759 - val_accuracy: 0.9769\n",
      "Epoch 7/15\n",
      "43/43 [==============================] - 2s 36ms/step - loss: 0.0839 - accuracy: 0.9758 - val_loss: 0.0760 - val_accuracy: 0.9868\n",
      "Epoch 8/15\n",
      "43/43 [==============================] - 2s 35ms/step - loss: 0.0740 - accuracy: 0.9765 - val_loss: 0.0709 - val_accuracy: 0.9703\n",
      "Epoch 9/15\n",
      "43/43 [==============================] - 2s 37ms/step - loss: 0.0755 - accuracy: 0.9743 - val_loss: 0.0653 - val_accuracy: 0.9769\n",
      "Epoch 10/15\n",
      "43/43 [==============================] - 2s 40ms/step - loss: 0.0667 - accuracy: 0.9791 - val_loss: 0.0510 - val_accuracy: 0.9901\n",
      "Epoch 11/15\n",
      "43/43 [==============================] - 2s 38ms/step - loss: 0.0716 - accuracy: 0.9780 - val_loss: 0.0455 - val_accuracy: 0.9901\n",
      "Epoch 12/15\n",
      "43/43 [==============================] - 2s 37ms/step - loss: 0.0546 - accuracy: 0.9850 - val_loss: 0.0447 - val_accuracy: 0.9901\n",
      "Epoch 13/15\n",
      "43/43 [==============================] - 2s 36ms/step - loss: 0.0546 - accuracy: 0.9853 - val_loss: 0.0441 - val_accuracy: 0.9901\n",
      "Epoch 14/15\n",
      "43/43 [==============================] - 2s 38ms/step - loss: 0.0529 - accuracy: 0.9872 - val_loss: 0.0385 - val_accuracy: 0.9934\n",
      "Epoch 15/15\n",
      "43/43 [==============================] - 2s 40ms/step - loss: 0.0527 - accuracy: 0.9857 - val_loss: 0.0730 - val_accuracy: 0.9736\n"
     ]
    },
    {
     "data": {
      "text/plain": [
       "<keras.callbacks.History at 0x2572ba32830>"
      ]
     },
     "execution_count": 18,
     "metadata": {},
     "output_type": "execute_result"
    }
   ],
   "source": [
    "cnn.fit(X_train, y_train, epochs=15, batch_size=64, validation_data=(X_val, y_val))"
   ]
  },
  {
   "cell_type": "code",
   "execution_count": 19,
   "id": "230463ec",
   "metadata": {},
   "outputs": [],
   "source": [
    "import numpy as np\n",
    "import matplotlib.pyplot as plt\n",
    "import seaborn as sns\n",
    "from sklearn.metrics import confusion_matrix, accuracy_score, precision_score, recall_score, f1_score\n",
    "\n",
    "def plot_confusion_matrix(model, model_name, X_test, y_test):\n",
    "    y_pred = model.predict(X_test)\n",
    "    y_pred_classes = (y_pred > 0.5).astype(\"int32\")\n",
    "\n",
    "    conf_matrix = confusion_matrix(y_test, y_pred_classes)\n",
    "\n",
    "    accuracy = accuracy_score(y_test, y_pred_classes)\n",
    "    precision = precision_score(y_test, y_pred_classes)\n",
    "    recall = recall_score(y_test, y_pred_classes)\n",
    "    f1 = f1_score(y_test, y_pred_classes)\n",
    "\n",
    "    plt.figure(figsize=(8, 6))\n",
    "    sns.heatmap(conf_matrix, annot=True, fmt=\"d\", cmap=\"Blues\")\n",
    "    plt.title(f\"Confusion Matrix - {model_name}\\nAccuracy: {accuracy:.2f}, Precision: {precision:.2f}, Recall: {recall:.2f}, F1-score: {f1:.2f}\")\n",
    "    plt.xlabel(\"Predicted Label\")\n",
    "    plt.ylabel(\"True Label\")\n",
    "    plt.show()\n",
    "\n"
   ]
  },
  {
   "cell_type": "code",
   "execution_count": 23,
   "id": "60cfb1b1",
   "metadata": {},
   "outputs": [
    {
     "name": "stdout",
     "output_type": "stream",
     "text": [
      "24/24 [==============================] - 0s 6ms/step\n"
     ]
    },
    {
     "data": {
      "image/png": "[encoded data removed]",
      "text/plain": [
       "<Figure size 800x600 with 2 Axes>"
      ]
     },
     "metadata": {},
     "output_type": "display_data"
    }
   ],
   "source": [
    "plot_confusion_matrix(cnn, 'CNN', X_test, y_test)"
   ]
  },
  {
   "cell_type": "code",
   "execution_count": 28,
   "id": "5c14e141",
   "metadata": {},
   "outputs": [
    {
     "name": "stdout",
     "output_type": "stream",
     "text": [
      "Model: \"sequential_1\"\n",
      "_________________________________________________________________\n",
      " Layer (type)                Output Shape              Param #   \n",
      "=================================================================\n",
      " embedding_1 (Embedding)     (None, 100, 64)           9152      \n",
      "                                                                 \n",
      " conv1d_1 (Conv1D)           (None, 96, 128)           41088     \n",
      "                                                                 \n",
      " global_max_pooling1d (Globa  (None, 128)              0         \n",
      " lMaxPooling1D)                                                  \n",
      "                                                                 \n",
      " dense_1 (Dense)             (None, 64)                8256      \n",
      "                                                                 \n",
      " dense_2 (Dense)             (None, 1)                 65        \n",
      "                                                                 \n",
      "=================================================================\n",
      "Total params: 58,561\n",
      "Trainable params: 58,561\n",
      "Non-trainable params: 0\n",
      "_________________________________________________________________\n"
     ]
    }
   ],
   "source": [
    "from tensorflow.keras.models import Sequential\n",
    "from tensorflow.keras.layers import Embedding, Conv1D, GlobalMaxPooling1D, Dense\n",
    "\n",
    "def create_model():\n",
    "    model = Sequential([\n",
    "        # Embedding layer\n",
    "        Embedding(input_dim=len(tokenizer.word_index) + 1, output_dim=64, input_length=max_sequence_length),\n",
    "        \n",
    "        # Convolutional layers\n",
    "        Conv1D(filters=128, kernel_size=5, activation='relu'),\n",
    "        GlobalMaxPooling1D(),\n",
    "        \n",
    "        # Dense layer\n",
    "        Dense(units=64, activation='relu'),\n",
    "        \n",
    "        # Output layer\n",
    "        Dense(units=1, activation='sigmoid')\n",
    "    ])\n",
    "    model.compile(optimizer='adam', loss='binary_crossentropy', metrics=['accuracy'])\n",
    "\n",
    "    return model\n",
    "\n",
    "# Define vocabulary size, embedding dimension, and max sequence length\n",
    "\n",
    "\n",
    "\n",
    "# Create the model\n",
    "test_model = create_model()\n",
    "\n",
    "# Compile the model\n",
    "\n",
    "# Print the model summary\n",
    "test_model.summary()\n"
   ]
  },
  {
   "cell_type": "code",
   "execution_count": 29,
   "id": "a711ec09",
   "metadata": {},
   "outputs": [
    {
     "name": "stdout",
     "output_type": "stream",
     "text": [
      "Epoch 1/10\n",
      "43/43 [==============================] - 2s 24ms/step - loss: 0.2768 - accuracy: 0.9472 - val_loss: 0.1859 - val_accuracy: 0.9472\n",
      "Epoch 2/10\n",
      "43/43 [==============================] - 1s 20ms/step - loss: 0.1645 - accuracy: 0.9472 - val_loss: 0.1354 - val_accuracy: 0.9472\n",
      "Epoch 3/10\n",
      "43/43 [==============================] - 1s 20ms/step - loss: 0.1285 - accuracy: 0.9560 - val_loss: 0.1031 - val_accuracy: 0.9703\n",
      "Epoch 4/10\n",
      "43/43 [==============================] - 1s 21ms/step - loss: 0.1071 - accuracy: 0.9651 - val_loss: 0.0911 - val_accuracy: 0.9835\n",
      "Epoch 5/10\n",
      "43/43 [==============================] - 1s 22ms/step - loss: 0.0954 - accuracy: 0.9677 - val_loss: 0.0715 - val_accuracy: 0.9802\n",
      "Epoch 6/10\n",
      "43/43 [==============================] - 1s 21ms/step - loss: 0.0863 - accuracy: 0.9714 - val_loss: 0.0691 - val_accuracy: 0.9802\n",
      "Epoch 7/10\n",
      "43/43 [==============================] - 1s 20ms/step - loss: 0.0785 - accuracy: 0.9750 - val_loss: 0.0600 - val_accuracy: 0.9901\n",
      "Epoch 8/10\n",
      "43/43 [==============================] - 1s 21ms/step - loss: 0.0682 - accuracy: 0.9794 - val_loss: 0.0531 - val_accuracy: 0.9901\n",
      "Epoch 9/10\n",
      "43/43 [==============================] - 1s 20ms/step - loss: 0.0613 - accuracy: 0.9806 - val_loss: 0.0537 - val_accuracy: 0.9868\n",
      "Epoch 10/10\n",
      "43/43 [==============================] - 1s 21ms/step - loss: 0.0577 - accuracy: 0.9806 - val_loss: 0.0485 - val_accuracy: 0.9934\n"
     ]
    },
    {
     "data": {
      "text/plain": [
       "<keras.callbacks.History at 0x25732613280>"
      ]
     },
     "execution_count": 29,
     "metadata": {},
     "output_type": "execute_result"
    }
   ],
   "source": [
    "test_model.fit(X_train, y_train, epochs=10, batch_size=64, validation_data=(X_val, y_val))"
   ]
  },
  {
   "cell_type": "code",
   "execution_count": 30,
   "id": "01917d56",
   "metadata": {},
   "outputs": [
    {
     "name": "stdout",
     "output_type": "stream",
     "text": [
      "24/24 [==============================] - 0s 2ms/step\n"
     ]
    },
    {
     "data": {
      "image/png": "[encoded data removed]",
      "text/plain": [
       "<Figure size 800x600 with 2 Axes>"
      ]
     },
     "metadata": {},
     "output_type": "display_data"
    }
   ],
   "source": [
    "plot_confusion_matrix(test_model, 'CNN', X_test, y_test)"
   ]
  },
  {
   "cell_type": "code",
   "execution_count": 33,
   "id": "b2fefd8d",
   "metadata": {},
   "outputs": [
    {
     "name": "stdout",
     "output_type": "stream",
     "text": [
      "Model: \"sequential_2\"\n",
      "_________________________________________________________________\n",
      " Layer (type)                Output Shape              Param #   \n",
      "=================================================================\n",
      " embedding_2 (Embedding)     (None, 100, 32)           4576      \n",
      "                                                                 \n",
      " conv1d_2 (Conv1D)           (None, 96, 32)            5152      \n",
      "                                                                 \n",
      " max_pooling1d_1 (MaxPooling  (None, 48, 32)           0         \n",
      " 1D)                                                             \n",
      "                                                                 \n",
      " dropout (Dropout)           (None, 48, 32)            0         \n",
      "                                                                 \n",
      " conv1d_3 (Conv1D)           (None, 44, 64)            10304     \n",
      "                                                                 \n",
      " max_pooling1d_2 (MaxPooling  (None, 22, 64)           0         \n",
      " 1D)                                                             \n",
      "                                                                 \n",
      " dropout_1 (Dropout)         (None, 22, 64)            0         \n",
      "                                                                 \n",
      " conv1d_4 (Conv1D)           (None, 18, 128)           41088     \n",
      "                                                                 \n",
      " global_max_pooling1d_1 (Glo  (None, 128)              0         \n",
      " balMaxPooling1D)                                                \n",
      "                                                                 \n",
      " dense_3 (Dense)             (None, 1)                 129       \n",
      "                                                                 \n",
      "=================================================================\n",
      "Total params: 61,249\n",
      "Trainable params: 61,249\n",
      "Non-trainable params: 0\n",
      "_________________________________________________________________\n"
     ]
    }
   ],
   "source": [
    "def create_model():\n",
    "    model = Sequential([\n",
    "        # Embedding layer\n",
    "        Embedding(input_dim=len(tokenizer.word_index) + 1, output_dim=32, input_length=max_sequence_length),\n",
    "        \n",
    "        # Conv1D layers\n",
    "        Conv1D(filters=32, kernel_size=5, activation='relu'),\n",
    "        MaxPooling1D(pool_size=2),\n",
    "        Dropout(0.5),  # Dropout layer\n",
    "        \n",
    "        Conv1D(filters=64, kernel_size=5, activation='relu'),\n",
    "        MaxPooling1D(pool_size=2),\n",
    "        Dropout(0.5),  # Dropout layer\n",
    "        \n",
    "        Conv1D(filters=128, kernel_size=5, activation='relu'),\n",
    "        \n",
    "        # GlobalMaxPooling1D layer\n",
    "        GlobalMaxPooling1D(),\n",
    "        \n",
    "        # Output layer\n",
    "        Dense(units=1, activation='sigmoid')\n",
    "    ])\n",
    "    model.compile(optimizer='adam', loss='binary_crossentropy', metrics=['accuracy'])\n",
    "\n",
    "    return model\n",
    "\n",
    "# Define vocabulary size, embedding dimension, and max sequence length\n",
    "\n",
    "# Create the model\n",
    "conv1d_model = create_model()\n",
    "\n",
    "# Compile the model\n",
    "\n",
    "# Print the model summary\n",
    "conv1d_model.summary()"
   ]
  },
  {
   "cell_type": "code",
   "execution_count": 38,
   "id": "abaae4e4",
   "metadata": {},
   "outputs": [
    {
     "name": "stdout",
     "output_type": "stream",
     "text": [
      "Epoch 1/50\n",
      "43/43 [==============================] - 1s 18ms/step - loss: 0.0663 - accuracy: 0.9765 - val_loss: 0.0518 - val_accuracy: 0.9868\n",
      "Epoch 2/50\n",
      "43/43 [==============================] - 1s 18ms/step - loss: 0.0601 - accuracy: 0.9780 - val_loss: 0.0529 - val_accuracy: 0.9769\n",
      "Epoch 3/50\n",
      "43/43 [==============================] - 1s 17ms/step - loss: 0.0636 - accuracy: 0.9765 - val_loss: 0.0508 - val_accuracy: 0.9835\n",
      "Epoch 4/50\n",
      "43/43 [==============================] - 1s 17ms/step - loss: 0.0579 - accuracy: 0.9791 - val_loss: 0.0559 - val_accuracy: 0.9769\n",
      "Epoch 5/50\n",
      "43/43 [==============================] - 1s 17ms/step - loss: 0.0591 - accuracy: 0.9794 - val_loss: 0.0506 - val_accuracy: 0.9868\n",
      "Epoch 6/50\n",
      "43/43 [==============================] - 1s 17ms/step - loss: 0.0518 - accuracy: 0.9831 - val_loss: 0.0596 - val_accuracy: 0.9703\n",
      "Epoch 7/50\n",
      "43/43 [==============================] - 1s 18ms/step - loss: 0.0525 - accuracy: 0.9835 - val_loss: 0.0497 - val_accuracy: 0.9802\n",
      "Epoch 8/50\n",
      "43/43 [==============================] - 1s 17ms/step - loss: 0.0544 - accuracy: 0.9809 - val_loss: 0.0493 - val_accuracy: 0.9835\n",
      "Epoch 9/50\n",
      "43/43 [==============================] - 1s 17ms/step - loss: 0.0577 - accuracy: 0.9783 - val_loss: 0.0469 - val_accuracy: 0.9835\n",
      "Epoch 10/50\n",
      "43/43 [==============================] - 1s 18ms/step - loss: 0.0536 - accuracy: 0.9802 - val_loss: 0.0531 - val_accuracy: 0.9769\n",
      "Epoch 11/50\n",
      "43/43 [==============================] - 1s 17ms/step - loss: 0.0463 - accuracy: 0.9835 - val_loss: 0.0621 - val_accuracy: 0.9736\n",
      "Epoch 12/50\n",
      "43/43 [==============================] - 1s 17ms/step - loss: 0.0485 - accuracy: 0.9794 - val_loss: 0.0436 - val_accuracy: 0.9802\n",
      "Epoch 13/50\n",
      "43/43 [==============================] - 1s 17ms/step - loss: 0.0512 - accuracy: 0.9806 - val_loss: 0.0558 - val_accuracy: 0.9703\n",
      "Epoch 14/50\n",
      "43/43 [==============================] - 1s 19ms/step - loss: 0.0504 - accuracy: 0.9828 - val_loss: 0.0572 - val_accuracy: 0.9769\n",
      "Epoch 15/50\n",
      "43/43 [==============================] - 1s 19ms/step - loss: 0.0504 - accuracy: 0.9798 - val_loss: 0.0505 - val_accuracy: 0.9736\n",
      "Epoch 16/50\n",
      "43/43 [==============================] - 1s 18ms/step - loss: 0.0466 - accuracy: 0.9813 - val_loss: 0.0467 - val_accuracy: 0.9769\n",
      "Epoch 17/50\n",
      "43/43 [==============================] - 1s 18ms/step - loss: 0.0541 - accuracy: 0.9828 - val_loss: 0.0528 - val_accuracy: 0.9802\n",
      "Epoch 18/50\n",
      "43/43 [==============================] - 1s 17ms/step - loss: 0.0478 - accuracy: 0.9824 - val_loss: 0.0448 - val_accuracy: 0.9769\n",
      "Epoch 19/50\n",
      "43/43 [==============================] - 1s 17ms/step - loss: 0.0397 - accuracy: 0.9850 - val_loss: 0.0459 - val_accuracy: 0.9802\n",
      "Epoch 20/50\n",
      "43/43 [==============================] - 1s 17ms/step - loss: 0.0456 - accuracy: 0.9835 - val_loss: 0.0639 - val_accuracy: 0.9637\n",
      "Epoch 21/50\n",
      "43/43 [==============================] - 1s 21ms/step - loss: 0.0489 - accuracy: 0.9839 - val_loss: 0.0455 - val_accuracy: 0.9802\n",
      "Epoch 22/50\n",
      "43/43 [==============================] - 1s 18ms/step - loss: 0.0454 - accuracy: 0.9820 - val_loss: 0.0516 - val_accuracy: 0.9802\n",
      "Epoch 23/50\n",
      "43/43 [==============================] - 1s 17ms/step - loss: 0.0482 - accuracy: 0.9835 - val_loss: 0.0467 - val_accuracy: 0.9736\n",
      "Epoch 24/50\n",
      "43/43 [==============================] - 1s 17ms/step - loss: 0.0461 - accuracy: 0.9820 - val_loss: 0.0454 - val_accuracy: 0.9736\n",
      "Epoch 25/50\n",
      "43/43 [==============================] - 1s 18ms/step - loss: 0.0417 - accuracy: 0.9875 - val_loss: 0.0571 - val_accuracy: 0.9703\n",
      "Epoch 26/50\n",
      "43/43 [==============================] - 1s 17ms/step - loss: 0.0475 - accuracy: 0.9817 - val_loss: 0.0590 - val_accuracy: 0.9802\n",
      "Epoch 27/50\n",
      "43/43 [==============================] - 1s 19ms/step - loss: 0.0442 - accuracy: 0.9853 - val_loss: 0.0684 - val_accuracy: 0.9703\n",
      "Epoch 28/50\n",
      "43/43 [==============================] - 1s 21ms/step - loss: 0.0448 - accuracy: 0.9828 - val_loss: 0.0416 - val_accuracy: 0.9868\n",
      "Epoch 29/50\n",
      "43/43 [==============================] - 1s 19ms/step - loss: 0.0406 - accuracy: 0.9839 - val_loss: 0.0540 - val_accuracy: 0.9868\n",
      "Epoch 30/50\n",
      "43/43 [==============================] - 1s 19ms/step - loss: 0.0453 - accuracy: 0.9831 - val_loss: 0.0568 - val_accuracy: 0.9802\n",
      "Epoch 31/50\n",
      "43/43 [==============================] - 1s 18ms/step - loss: 0.0382 - accuracy: 0.9864 - val_loss: 0.0336 - val_accuracy: 0.9868\n",
      "Epoch 32/50\n",
      "43/43 [==============================] - 1s 19ms/step - loss: 0.0446 - accuracy: 0.9817 - val_loss: 0.0475 - val_accuracy: 0.9802\n",
      "Epoch 33/50\n",
      "43/43 [==============================] - 1s 18ms/step - loss: 0.0413 - accuracy: 0.9864 - val_loss: 0.0466 - val_accuracy: 0.9835\n",
      "Epoch 34/50\n",
      "43/43 [==============================] - 1s 19ms/step - loss: 0.0398 - accuracy: 0.9857 - val_loss: 0.0460 - val_accuracy: 0.9802\n",
      "Epoch 35/50\n",
      "43/43 [==============================] - 1s 21ms/step - loss: 0.0392 - accuracy: 0.9864 - val_loss: 0.0418 - val_accuracy: 0.9901\n",
      "Epoch 36/50\n",
      "43/43 [==============================] - 1s 17ms/step - loss: 0.0399 - accuracy: 0.9853 - val_loss: 0.0355 - val_accuracy: 0.9901\n",
      "Epoch 37/50\n",
      "43/43 [==============================] - 1s 17ms/step - loss: 0.0386 - accuracy: 0.9842 - val_loss: 0.0436 - val_accuracy: 0.9901\n",
      "Epoch 38/50\n",
      "43/43 [==============================] - 1s 17ms/step - loss: 0.0393 - accuracy: 0.9872 - val_loss: 0.0548 - val_accuracy: 0.9769\n",
      "Epoch 39/50\n",
      "43/43 [==============================] - 1s 19ms/step - loss: 0.0412 - accuracy: 0.9835 - val_loss: 0.0394 - val_accuracy: 0.9835\n",
      "Epoch 40/50\n",
      "43/43 [==============================] - 1s 19ms/step - loss: 0.0363 - accuracy: 0.9864 - val_loss: 0.0321 - val_accuracy: 0.9901\n",
      "Epoch 41/50\n",
      "43/43 [==============================] - 1s 20ms/step - loss: 0.0392 - accuracy: 0.9857 - val_loss: 0.0450 - val_accuracy: 0.9868\n",
      "Epoch 42/50\n",
      "43/43 [==============================] - 1s 18ms/step - loss: 0.0393 - accuracy: 0.9861 - val_loss: 0.0513 - val_accuracy: 0.9868\n",
      "Epoch 43/50\n",
      "43/43 [==============================] - 1s 17ms/step - loss: 0.0409 - accuracy: 0.9835 - val_loss: 0.0463 - val_accuracy: 0.9769\n",
      "Epoch 44/50\n",
      "43/43 [==============================] - 1s 18ms/step - loss: 0.0381 - accuracy: 0.9842 - val_loss: 0.0401 - val_accuracy: 0.9835\n",
      "Epoch 45/50\n",
      "43/43 [==============================] - 1s 17ms/step - loss: 0.0321 - accuracy: 0.9897 - val_loss: 0.0359 - val_accuracy: 0.9802\n",
      "Epoch 46/50\n",
      "43/43 [==============================] - 1s 17ms/step - loss: 0.0338 - accuracy: 0.9879 - val_loss: 0.0348 - val_accuracy: 0.9802\n",
      "Epoch 47/50\n",
      "43/43 [==============================] - 1s 17ms/step - loss: 0.0331 - accuracy: 0.9886 - val_loss: 0.0365 - val_accuracy: 0.9835\n",
      "Epoch 48/50\n",
      "43/43 [==============================] - 1s 19ms/step - loss: 0.0333 - accuracy: 0.9868 - val_loss: 0.0392 - val_accuracy: 0.9835\n",
      "Epoch 49/50\n",
      "43/43 [==============================] - 1s 18ms/step - loss: 0.0346 - accuracy: 0.9864 - val_loss: 0.0346 - val_accuracy: 0.9835\n",
      "Epoch 50/50\n",
      "43/43 [==============================] - 1s 20ms/step - loss: 0.0354 - accuracy: 0.9879 - val_loss: 0.0353 - val_accuracy: 0.9901\n"
     ]
    },
    {
     "data": {
      "text/plain": [
       "<keras.callbacks.History at 0x25735333be0>"
      ]
     },
     "execution_count": 38,
     "metadata": {},
     "output_type": "execute_result"
    }
   ],
   "source": [
    "conv1d_model.fit(X_train, y_train, epochs=50, batch_size=64, validation_data=(X_val, y_val))"
   ]
  },
  {
   "cell_type": "code",
   "execution_count": 39,
   "id": "c15ba86f",
   "metadata": {},
   "outputs": [
    {
     "name": "stdout",
     "output_type": "stream",
     "text": [
      "24/24 [==============================] - 0s 2ms/step\n"
     ]
    },
    {
     "data": {
      "image/png": "[encoded data removed]",
      "text/plain": [
       "<Figure size 800x600 with 2 Axes>"
      ]
     },
     "metadata": {},
     "output_type": "display_data"
    }
   ],
   "source": [
    "plot_confusion_matrix(conv1d_model, 'CNN', X_test, y_test)"
   ]
  },
  {
   "cell_type": "code",
   "execution_count": null,
   "id": "dbd344d3",
   "metadata": {},
   "outputs": [],
   "source": []
  }
 ],
 "metadata": {
  "kernelspec": {
   "display_name": "Python 3 (ipykernel)",
   "language": "python",
   "name": "python3"
  },
  "language_info": {
   "codemirror_mode": {
    "name": "ipython",
    "version": 3
   },
   "file_extension": ".py",
   "mimetype": "text/x-python",
   "name": "python",
   "nbconvert_exporter": "python",
   "pygments_lexer": "ipython3",
   "version": "3.10.1"
  }
 },
 "nbformat": 4,
 "nbformat_minor": 5
}
